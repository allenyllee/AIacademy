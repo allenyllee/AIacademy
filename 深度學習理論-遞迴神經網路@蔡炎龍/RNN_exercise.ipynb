{
 "cells": [
  {
   "cell_type": "code",
   "execution_count": 3,
   "metadata": {},
   "outputs": [
    {
     "name": "stdout",
     "output_type": "stream",
     "text": [
      "env: KERAS_BACKEND=tensorflow\n"
     ]
    }
   ],
   "source": [
    "%env KERAS_BACKEND = tensorflow"
   ]
  },
  {
   "cell_type": "code",
   "execution_count": 4,
   "metadata": {},
   "outputs": [],
   "source": [
    "%matplotlib inline\n",
    "\n",
    "import numpy as np\n",
    "import matplotlib.pyplot as plt\n",
    "import pandas as pd\n"
   ]
  },
  {
   "cell_type": "code",
   "execution_count": 5,
   "metadata": {},
   "outputs": [],
   "source": [
    "from keras.datasets import imdb"
   ]
  },
  {
   "cell_type": "code",
   "execution_count": 6,
   "metadata": {},
   "outputs": [],
   "source": [
    "(x_train, y_train), (x_test, y_test) = imdb.load_data(num_words=10000)"
   ]
  },
  {
   "cell_type": "code",
   "execution_count": 7,
   "metadata": {},
   "outputs": [
    {
     "name": "stdout",
     "output_type": "stream",
     "text": [
      "218, 189, 141, 550, 147, 43, 123, 562, 233, 130, "
     ]
    }
   ],
   "source": [
    "for i in range(10):\n",
    "    print(len(x_train[i]), end=', ')"
   ]
  },
  {
   "cell_type": "code",
   "execution_count": 8,
   "metadata": {},
   "outputs": [],
   "source": [
    "from keras.preprocessing import sequence"
   ]
  },
  {
   "cell_type": "code",
   "execution_count": 9,
   "metadata": {},
   "outputs": [],
   "source": [
    "x_train = sequence.pad_sequences(x_train, maxlen=100)\n",
    "x_test = sequence.pad_sequences(x_test, maxlen=100)"
   ]
  },
  {
   "cell_type": "code",
   "execution_count": 10,
   "metadata": {},
   "outputs": [
    {
     "name": "stdout",
     "output_type": "stream",
     "text": [
      "100, 100, 100, 100, 100, 100, 100, 100, 100, 100, "
     ]
    }
   ],
   "source": [
    "for i in range(10):\n",
    "    print(len(x_train[i]), end=', ')"
   ]
  },
  {
   "cell_type": "code",
   "execution_count": 11,
   "metadata": {},
   "outputs": [],
   "source": [
    "x_trash = sequence.pad_sequences(x_train, maxlen=150)"
   ]
  },
  {
   "cell_type": "code",
   "execution_count": 12,
   "metadata": {},
   "outputs": [
    {
     "data": {
      "text/plain": [
       "array([   0,    0,    0,    0,    0,    0,    0,    0,    0,    0,    0,\n",
       "          0,    0,    0,    0,    0,    0,    0,    0,    0,    0,    0,\n",
       "          0,    0,    0,    0,    0,    0,    0,    0,    0,    0,    0,\n",
       "          0,    0,    0,    0,    0,    0,    0,    0,    0,    0,    0,\n",
       "          0,    0,    0,    0,    0,    0,   79,   12,   14,    9,  691,\n",
       "          6, 8338,    5, 7524,   20,   93, 3084,   34,   94,    2,  631,\n",
       "        956,    5, 4905,    2, 3981,  671,    8,    2, 1426,   23,   35,\n",
       "        311,  772,   41,  544,  584,   13,  100, 1227,  842,    4, 1588,\n",
       "        120,   33,  312,  211, 3413, 5611,   68,    2,  120,    4, 4197,\n",
       "          2,   15,    2,   14,  431,  249,  136,  776, 4905, 1027,    8,\n",
       "          2,   41,    2,    2,   23,    4,  890,    7, 1316,   11,    6,\n",
       "          2,  428, 2727, 1735,   24,  163,   24,  204,   24,  221,   24,\n",
       "          6,   52,   20,    4,  693,  241,  675,    9,    4,  959,    7,\n",
       "          2,  120, 9719,   92,  437,  129,   58])"
      ]
     },
     "execution_count": 12,
     "metadata": {},
     "output_type": "execute_result"
    }
   ],
   "source": [
    "x_trash[87] #前面補 0"
   ]
  },
  {
   "cell_type": "code",
   "execution_count": 13,
   "metadata": {},
   "outputs": [
    {
     "data": {
      "text/plain": [
       "(25000, 100)"
      ]
     },
     "execution_count": 13,
     "metadata": {},
     "output_type": "execute_result"
    }
   ],
   "source": [
    "x_train.shape"
   ]
  },
  {
   "cell_type": "code",
   "execution_count": 14,
   "metadata": {},
   "outputs": [],
   "source": [
    "from keras.models import Sequential\n",
    "from keras.layers import Dense, Embedding\n",
    "from keras.layers import LSTM"
   ]
  },
  {
   "cell_type": "code",
   "execution_count": 15,
   "metadata": {},
   "outputs": [],
   "source": [
    "model = Sequential() # 開一個空的網路"
   ]
  },
  {
   "cell_type": "code",
   "execution_count": 16,
   "metadata": {},
   "outputs": [],
   "source": [
    "model.add(Embedding(10000, 128)) # 這部份自己會去學習最好的 embedding 方式"
   ]
  },
  {
   "cell_type": "code",
   "execution_count": 17,
   "metadata": {},
   "outputs": [],
   "source": [
    "model.add(LSTM(150))"
   ]
  },
  {
   "cell_type": "code",
   "execution_count": 18,
   "metadata": {},
   "outputs": [],
   "source": [
    "model.add(Dense(1, activation='sigmoid'))"
   ]
  },
  {
   "cell_type": "code",
   "execution_count": 19,
   "metadata": {},
   "outputs": [],
   "source": [
    "model.compile(loss='binary_crossentropy',\n",
    "             optimizer='adam',\n",
    "             metrics=['accuracy'])"
   ]
  },
  {
   "cell_type": "code",
   "execution_count": 20,
   "metadata": {},
   "outputs": [
    {
     "name": "stdout",
     "output_type": "stream",
     "text": [
      "_________________________________________________________________\n",
      "Layer (type)                 Output Shape              Param #   \n",
      "=================================================================\n",
      "embedding_1 (Embedding)      (None, None, 128)         1280000   \n",
      "_________________________________________________________________\n",
      "lstm_1 (LSTM)                (None, 150)               167400    \n",
      "_________________________________________________________________\n",
      "dense_1 (Dense)              (None, 1)                 151       \n",
      "=================================================================\n",
      "Total params: 1,447,551\n",
      "Trainable params: 1,447,551\n",
      "Non-trainable params: 0\n",
      "_________________________________________________________________\n"
     ]
    }
   ],
   "source": [
    "model.summary()"
   ]
  },
  {
   "cell_type": "code",
   "execution_count": 25,
   "metadata": {},
   "outputs": [
    {
     "name": "stdout",
     "output_type": "stream",
     "text": [
      "Requirement already satisfied: graphviz in c:\\users\\allen\\anaconda3\\envs\\tensorflow-gpu\\lib\\site-packages\n",
      "Requirement already satisfied: pydotplus in c:\\users\\allen\\anaconda3\\envs\\tensorflow-gpu\\lib\\site-packages\n",
      "Requirement already satisfied: pyparsing>=2.0.1 in c:\\users\\allen\\anaconda3\\envs\\tensorflow-gpu\\lib\\site-packages (from pydotplus)\n"
     ]
    }
   ],
   "source": [
    "#!pip install pydot\n",
    "!pip install graphviz\n",
    "!pip install pydotplus"
   ]
  },
  {
   "cell_type": "code",
   "execution_count": 24,
   "metadata": {},
   "outputs": [
    {
     "data": {
      "text/plain": [
       "{'circo': 'C:\\\\Program Files (x86)\\\\Graphviz2.38\\\\bin\\\\circo.exe',\n",
       " 'dot': 'C:\\\\Program Files (x86)\\\\Graphviz2.38\\\\bin\\\\dot.exe',\n",
       " 'fdp': 'C:\\\\Program Files (x86)\\\\Graphviz2.38\\\\bin\\\\fdp.exe',\n",
       " 'neato': 'C:\\\\Program Files (x86)\\\\Graphviz2.38\\\\bin\\\\neato.exe',\n",
       " 'sfdp': 'C:\\\\Program Files (x86)\\\\Graphviz2.38\\\\bin\\\\sfdp.exe',\n",
       " 'twopi': 'C:\\\\Program Files (x86)\\\\Graphviz2.38\\\\bin\\\\twopi.exe'}"
      ]
     },
     "execution_count": 24,
     "metadata": {},
     "output_type": "execute_result"
    }
   ],
   "source": [
    "import pydotplus as pydot\n",
    "pydot.find_graphviz()"
   ]
  },
  {
   "cell_type": "code",
   "execution_count": 22,
   "metadata": {},
   "outputs": [],
   "source": [
    "from keras.utils.vis_utils import plot_model"
   ]
  },
  {
   "cell_type": "code",
   "execution_count": 23,
   "metadata": {},
   "outputs": [],
   "source": [
    "plot_model(model, show_shapes=True, to_file=\"rnn.png\")"
   ]
  },
  {
   "cell_type": "markdown",
   "metadata": {},
   "source": [
    "![](rnn.png)"
   ]
  },
  {
   "cell_type": "code",
   "execution_count": null,
   "metadata": {},
   "outputs": [],
   "source": [
    "model.fit(x_train, y_train,\n",
    "         batch_size=32,\n",
    "         epochs=2)"
   ]
  },
  {
   "cell_type": "code",
   "execution_count": 123,
   "metadata": {},
   "outputs": [
    {
     "name": "stdout",
     "output_type": "stream",
     "text": [
      "25000/25000 [==============================] - 64s 3ms/step\n"
     ]
    }
   ],
   "source": [
    "score = model.evaluate(x_test, y_test)"
   ]
  },
  {
   "cell_type": "code",
   "execution_count": 124,
   "metadata": {},
   "outputs": [
    {
     "name": "stdout",
     "output_type": "stream",
     "text": [
      "loss 0.5638187509536743\n",
      "acc: 0.78416\n"
     ]
    }
   ],
   "source": [
    "print('loss', score[0])\n",
    "print('acc:', score[1])"
   ]
  },
  {
   "cell_type": "code",
   "execution_count": 190,
   "metadata": {},
   "outputs": [],
   "source": [
    "x = np.linspace(-5, 10, 200)"
   ]
  },
  {
   "cell_type": "code",
   "execution_count": 191,
   "metadata": {},
   "outputs": [],
   "source": [
    "lamba = 1.05070098\n",
    "alpha = 1.67326324"
   ]
  },
  {
   "cell_type": "code",
   "execution_count": 194,
   "metadata": {},
   "outputs": [],
   "source": [
    "x0 = x*(x>0)\n",
    "x1 = x*(x<0)\n",
    "\n",
    "y0 = lamba * x0\n",
    "y1 = lamba * (alpha * np.exp(x1) - alpha)"
   ]
  },
  {
   "cell_type": "code",
   "execution_count": 195,
   "metadata": {},
   "outputs": [
    {
     "data": {
      "text/plain": [
       "[<matplotlib.lines.Line2D at 0x244df49f630>]"
      ]
     },
     "execution_count": 195,
     "metadata": {},
     "output_type": "execute_result"
    },
    {
     "data": {
      "image/png": "[encoded data removed]",
      "text/plain": [
       "<matplotlib.figure.Figure at 0x244df4857b8>"
      ]
     },
     "metadata": {},
     "output_type": "display_data"
    }
   ],
   "source": [
    "plt.plot(x0, y0, c='b')\n",
    "plt.plot(x1, y1, c='b')"
   ]
  },
  {
   "cell_type": "code",
   "execution_count": 268,
   "metadata": {},
   "outputs": [],
   "source": [
    "x = np.linspace(0, 10, 200)\n",
    "y = np.sin(2*x) + 0.3 * np.random.randn(200)"
   ]
  },
  {
   "cell_type": "code",
   "execution_count": 269,
   "metadata": {},
   "outputs": [
    {
     "data": {
      "text/plain": [
       "<matplotlib.collections.PathCollection at 0x244dace0208>"
      ]
     },
     "execution_count": 269,
     "metadata": {},
     "output_type": "execute_result"
    },
    {
     "data": {
      "image/png": "[encoded data removed]",
      "text/plain": [
       "<matplotlib.figure.Figure at 0x244db6a6898>"
      ]
     },
     "metadata": {},
     "output_type": "display_data"
    }
   ],
   "source": [
    "plt.scatter(x,y)"
   ]
  },
  {
   "cell_type": "code",
   "execution_count": 260,
   "metadata": {},
   "outputs": [],
   "source": [
    "x_train = x\n",
    "y_train = y"
   ]
  },
  {
   "cell_type": "code",
   "execution_count": 261,
   "metadata": {},
   "outputs": [
    {
     "data": {
      "text/plain": [
       "(200,)"
      ]
     },
     "execution_count": 261,
     "metadata": {},
     "output_type": "execute_result"
    }
   ],
   "source": [
    "x_train.shape"
   ]
  },
  {
   "cell_type": "code",
   "execution_count": 262,
   "metadata": {},
   "outputs": [],
   "source": [
    "from keras.models import Sequential"
   ]
  },
  {
   "cell_type": "code",
   "execution_count": 263,
   "metadata": {},
   "outputs": [],
   "source": [
    "model = Sequential()"
   ]
  },
  {
   "cell_type": "code",
   "execution_count": 264,
   "metadata": {},
   "outputs": [],
   "source": [
    "model.add(Dense(32, input_dim=1, activation='relu'))\n",
    "model.add(Dense(1, input_dim=32, activation='relu'))"
   ]
  },
  {
   "cell_type": "code",
   "execution_count": 265,
   "metadata": {},
   "outputs": [],
   "source": [
    "model.compile(loss='mean_squared_error',\n",
    "             optimizer='sgd',\n",
    "             metrics=['accuracy'])"
   ]
  },
  {
   "cell_type": "code",
   "execution_count": 266,
   "metadata": {},
   "outputs": [
    {
     "name": "stdout",
     "output_type": "stream",
     "text": [
      "_________________________________________________________________\n",
      "Layer (type)                 Output Shape              Param #   \n",
      "=================================================================\n",
      "dense_18 (Dense)             (None, 32)                64        \n",
      "_________________________________________________________________\n",
      "dense_19 (Dense)             (None, 1)                 33        \n",
      "=================================================================\n",
      "Total params: 97\n",
      "Trainable params: 97\n",
      "Non-trainable params: 0\n",
      "_________________________________________________________________\n"
     ]
    }
   ],
   "source": [
    "model.summary()"
   ]
  },
  {
   "cell_type": "code",
   "execution_count": 267,
   "metadata": {},
   "outputs": [
    {
     "name": "stdout",
     "output_type": "stream",
     "text": [
      "Epoch 1/100\n",
      "200/200 [==============================] - 1s 3ms/step - loss: 0.9881 - acc: 0.0000e+00\n",
      "Epoch 2/100\n",
      "200/200 [==============================] - 0s 315us/step - loss: 0.5900 - acc: 0.0000e+00\n",
      "Epoch 3/100\n",
      "200/200 [==============================] - 0s 315us/step - loss: 0.5900 - acc: 0.0000e+00\n",
      "Epoch 4/100\n",
      "200/200 [==============================] - 0s 315us/step - loss: 0.5900 - acc: 0.0000e+00\n",
      "Epoch 5/100\n",
      "200/200 [==============================] - 0s 325us/step - loss: 0.5900 - acc: 0.0000e+00\n",
      "Epoch 6/100\n",
      "200/200 [==============================] - 0s 280us/step - loss: 0.5900 - acc: 0.0000e+00\n",
      "Epoch 7/100\n",
      "200/200 [==============================] - 0s 318us/step - loss: 0.5900 - acc: 0.0000e+00\n",
      "Epoch 8/100\n",
      "200/200 [==============================] - 0s 383us/step - loss: 0.5900 - acc: 0.0000e+00\n",
      "Epoch 9/100\n",
      "200/200 [==============================] - 0s 392us/step - loss: 0.5900 - acc: 0.0000e+00\n",
      "Epoch 10/100\n",
      "200/200 [==============================] - 0s 307us/step - loss: 0.5900 - acc: 0.0000e+00\n",
      "Epoch 11/100\n",
      "200/200 [==============================] - 0s 273us/step - loss: 0.5900 - acc: 0.0000e+00\n",
      "Epoch 12/100\n",
      "200/200 [==============================] - 0s 285us/step - loss: 0.5900 - acc: 0.0000e+00\n",
      "Epoch 13/100\n",
      "200/200 [==============================] - 0s 290us/step - loss: 0.5900 - acc: 0.0000e+00\n",
      "Epoch 14/100\n",
      "200/200 [==============================] - 0s 270us/step - loss: 0.5900 - acc: 0.0000e+00\n",
      "Epoch 15/100\n",
      "200/200 [==============================] - 0s 420us/step - loss: 0.5900 - acc: 0.0000e+00\n",
      "Epoch 16/100\n",
      "200/200 [==============================] - 0s 348us/step - loss: 0.5900 - acc: 0.0000e+00\n",
      "Epoch 17/100\n",
      "200/200 [==============================] - 0s 512us/step - loss: 0.5900 - acc: 0.0000e+00\n",
      "Epoch 18/100\n",
      "200/200 [==============================] - 0s 402us/step - loss: 0.5900 - acc: 0.0000e+00\n",
      "Epoch 19/100\n",
      "200/200 [==============================] - 0s 587us/step - loss: 0.5900 - acc: 0.0000e+00\n",
      "Epoch 20/100\n",
      "200/200 [==============================] - 0s 257us/step - loss: 0.5900 - acc: 0.0000e+00\n",
      "Epoch 21/100\n",
      "200/200 [==============================] - 0s 332us/step - loss: 0.5900 - acc: 0.0000e+00\n",
      "Epoch 22/100\n",
      "200/200 [==============================] - 0s 463us/step - loss: 0.5900 - acc: 0.0000e+00\n",
      "Epoch 23/100\n",
      "200/200 [==============================] - 0s 223us/step - loss: 0.5900 - acc: 0.0000e+00\n",
      "Epoch 24/100\n",
      "200/200 [==============================] - 0s 318us/step - loss: 0.5900 - acc: 0.0000e+00\n",
      "Epoch 25/100\n",
      "200/200 [==============================] - 0s 267us/step - loss: 0.5900 - acc: 0.0000e+00\n",
      "Epoch 26/100\n",
      "200/200 [==============================] - 0s 418us/step - loss: 0.5900 - acc: 0.0000e+00\n",
      "Epoch 27/100\n",
      "200/200 [==============================] - 0s 335us/step - loss: 0.5900 - acc: 0.0000e+00\n",
      "Epoch 28/100\n",
      "200/200 [==============================] - 0s 307us/step - loss: 0.5900 - acc: 0.0000e+00\n",
      "Epoch 29/100\n",
      "200/200 [==============================] - 0s 262us/step - loss: 0.5900 - acc: 0.0000e+00\n",
      "Epoch 30/100\n",
      "200/200 [==============================] - 0s 318us/step - loss: 0.5900 - acc: 0.0000e+00\n",
      "Epoch 31/100\n",
      "200/200 [==============================] - 0s 393us/step - loss: 0.5900 - acc: 0.0000e+00\n",
      "Epoch 32/100\n",
      "200/200 [==============================] - 0s 272us/step - loss: 0.5900 - acc: 0.0000e+00\n",
      "Epoch 33/100\n",
      "200/200 [==============================] - 0s 288us/step - loss: 0.5900 - acc: 0.0000e+00\n",
      "Epoch 34/100\n",
      "200/200 [==============================] - 0s 290us/step - loss: 0.5900 - acc: 0.0000e+00\n",
      "Epoch 35/100\n",
      "200/200 [==============================] - 0s 430us/step - loss: 0.5900 - acc: 0.0000e+00\n",
      "Epoch 36/100\n",
      "200/200 [==============================] - 0s 420us/step - loss: 0.5900 - acc: 0.0000e+00\n",
      "Epoch 37/100\n",
      "200/200 [==============================] - 0s 358us/step - loss: 0.5900 - acc: 0.0000e+00\n",
      "Epoch 38/100\n",
      "200/200 [==============================] - 0s 283us/step - loss: 0.5900 - acc: 0.0000e+00\n",
      "Epoch 39/100\n",
      "200/200 [==============================] - 0s 240us/step - loss: 0.5900 - acc: 0.0000e+00\n",
      "Epoch 40/100\n",
      "200/200 [==============================] - 0s 373us/step - loss: 0.5900 - acc: 0.0000e+00\n",
      "Epoch 41/100\n",
      "200/200 [==============================] - 0s 415us/step - loss: 0.5900 - acc: 0.0000e+00\n",
      "Epoch 42/100\n",
      "200/200 [==============================] - 0s 290us/step - loss: 0.5900 - acc: 0.0000e+00\n",
      "Epoch 43/100\n",
      "200/200 [==============================] - 0s 390us/step - loss: 0.5900 - acc: 0.0000e+00\n",
      "Epoch 44/100\n",
      "200/200 [==============================] - 0s 370us/step - loss: 0.5900 - acc: 0.0000e+00\n",
      "Epoch 45/100\n",
      "200/200 [==============================] - 0s 475us/step - loss: 0.5900 - acc: 0.0000e+00\n",
      "Epoch 46/100\n",
      "200/200 [==============================] - 0s 295us/step - loss: 0.5900 - acc: 0.0000e+00\n",
      "Epoch 47/100\n",
      "200/200 [==============================] - 0s 375us/step - loss: 0.5900 - acc: 0.0000e+00\n",
      "Epoch 48/100\n",
      "200/200 [==============================] - 0s 200us/step - loss: 0.5900 - acc: 0.0000e+00\n",
      "Epoch 49/100\n",
      "200/200 [==============================] - 0s 302us/step - loss: 0.5900 - acc: 0.0000e+00\n",
      "Epoch 50/100\n",
      "200/200 [==============================] - 0s 290us/step - loss: 0.5900 - acc: 0.0000e+00\n",
      "Epoch 51/100\n",
      "200/200 [==============================] - 0s 290us/step - loss: 0.5900 - acc: 0.0000e+00\n",
      "Epoch 52/100\n",
      "200/200 [==============================] - 0s 285us/step - loss: 0.5900 - acc: 0.0000e+00\n",
      "Epoch 53/100\n",
      "200/200 [==============================] - 0s 243us/step - loss: 0.5900 - acc: 0.0000e+00\n",
      "Epoch 54/100\n",
      "200/200 [==============================] - 0s 230us/step - loss: 0.5900 - acc: 0.0000e+00\n",
      "Epoch 55/100\n",
      "200/200 [==============================] - 0s 300us/step - loss: 0.5900 - acc: 0.0000e+00\n",
      "Epoch 56/100\n",
      "200/200 [==============================] - 0s 358us/step - loss: 0.5900 - acc: 0.0000e+00\n",
      "Epoch 57/100\n",
      "200/200 [==============================] - 0s 317us/step - loss: 0.5900 - acc: 0.0000e+00\n",
      "Epoch 58/100\n",
      "200/200 [==============================] - 0s 210us/step - loss: 0.5900 - acc: 0.0000e+00\n",
      "Epoch 59/100\n",
      "200/200 [==============================] - 0s 282us/step - loss: 0.5900 - acc: 0.0000e+00\n",
      "Epoch 60/100\n",
      "200/200 [==============================] - 0s 200us/step - loss: 0.5900 - acc: 0.0000e+00\n",
      "Epoch 61/100\n",
      "200/200 [==============================] - 0s 225us/step - loss: 0.5900 - acc: 0.0000e+00\n",
      "Epoch 62/100\n",
      "200/200 [==============================] - 0s 295us/step - loss: 0.5900 - acc: 0.0000e+00\n",
      "Epoch 63/100\n",
      "200/200 [==============================] - 0s 200us/step - loss: 0.5900 - acc: 0.0000e+00\n",
      "Epoch 64/100\n",
      "200/200 [==============================] - 0s 300us/step - loss: 0.5900 - acc: 0.0000e+00\n",
      "Epoch 65/100\n",
      "200/200 [==============================] - 0s 305us/step - loss: 0.5900 - acc: 0.0000e+00\n",
      "Epoch 66/100\n",
      "200/200 [==============================] - 0s 265us/step - loss: 0.5900 - acc: 0.0000e+00\n",
      "Epoch 67/100\n",
      "200/200 [==============================] - 0s 220us/step - loss: 0.5900 - acc: 0.0000e+00\n",
      "Epoch 68/100\n",
      "200/200 [==============================] - 0s 210us/step - loss: 0.5900 - acc: 0.0000e+00\n",
      "Epoch 69/100\n",
      "200/200 [==============================] - 0s 245us/step - loss: 0.5900 - acc: 0.0000e+00\n",
      "Epoch 70/100\n",
      "200/200 [==============================] - 0s 255us/step - loss: 0.5900 - acc: 0.0000e+00\n",
      "Epoch 71/100\n",
      "200/200 [==============================] - 0s 420us/step - loss: 0.5900 - acc: 0.0000e+00\n",
      "Epoch 72/100\n",
      "200/200 [==============================] - 0s 268us/step - loss: 0.5900 - acc: 0.0000e+00\n",
      "Epoch 73/100\n",
      "200/200 [==============================] - 0s 280us/step - loss: 0.5900 - acc: 0.0000e+00\n",
      "Epoch 74/100\n",
      "200/200 [==============================] - 0s 375us/step - loss: 0.5900 - acc: 0.0000e+00\n",
      "Epoch 75/100\n",
      "200/200 [==============================] - 0s 333us/step - loss: 0.5900 - acc: 0.0000e+00\n",
      "Epoch 76/100\n",
      "200/200 [==============================] - 0s 193us/step - loss: 0.5900 - acc: 0.0000e+00\n",
      "Epoch 77/100\n",
      "200/200 [==============================] - 0s 310us/step - loss: 0.5900 - acc: 0.0000e+00\n",
      "Epoch 78/100\n",
      "200/200 [==============================] - 0s 210us/step - loss: 0.5900 - acc: 0.0000e+00\n",
      "Epoch 79/100\n",
      "200/200 [==============================] - 0s 605us/step - loss: 0.5900 - acc: 0.0000e+00\n",
      "Epoch 80/100\n",
      "200/200 [==============================] - 0s 860us/step - loss: 0.5900 - acc: 0.0000e+00\n",
      "Epoch 81/100\n",
      "200/200 [==============================] - 0s 532us/step - loss: 0.5900 - acc: 0.0000e+00\n",
      "Epoch 82/100\n",
      "200/200 [==============================] - 0s 320us/step - loss: 0.5900 - acc: 0.0000e+00\n",
      "Epoch 83/100\n",
      "200/200 [==============================] - 0s 493us/step - loss: 0.5900 - acc: 0.0000e+00\n",
      "Epoch 84/100\n",
      "200/200 [==============================] - 0s 368us/step - loss: 0.5900 - acc: 0.0000e+00\n",
      "Epoch 85/100\n",
      "200/200 [==============================] - 0s 298us/step - loss: 0.5900 - acc: 0.0000e+00\n",
      "Epoch 86/100\n",
      "200/200 [==============================] - 0s 273us/step - loss: 0.5900 - acc: 0.0000e+00\n",
      "Epoch 87/100\n",
      "200/200 [==============================] - 0s 245us/step - loss: 0.5900 - acc: 0.0000e+00\n",
      "Epoch 88/100\n",
      "200/200 [==============================] - 0s 298us/step - loss: 0.5900 - acc: 0.0000e+00\n",
      "Epoch 89/100\n",
      "200/200 [==============================] - 0s 342us/step - loss: 0.5900 - acc: 0.0000e+00\n",
      "Epoch 90/100\n",
      "200/200 [==============================] - 0s 432us/step - loss: 0.5900 - acc: 0.0000e+00\n",
      "Epoch 91/100\n",
      "200/200 [==============================] - 0s 243us/step - loss: 0.5900 - acc: 0.0000e+00\n",
      "Epoch 92/100\n",
      "200/200 [==============================] - 0s 338us/step - loss: 0.5900 - acc: 0.0000e+00\n",
      "Epoch 93/100\n",
      "200/200 [==============================] - 0s 225us/step - loss: 0.5900 - acc: 0.0000e+00\n",
      "Epoch 94/100\n",
      "200/200 [==============================] - 0s 238us/step - loss: 0.5900 - acc: 0.0000e+00\n",
      "Epoch 95/100\n",
      "200/200 [==============================] - 0s 328us/step - loss: 0.5900 - acc: 0.0000e+00\n",
      "Epoch 96/100\n",
      "200/200 [==============================] - 0s 342us/step - loss: 0.5900 - acc: 0.0000e+00\n",
      "Epoch 97/100\n",
      "200/200 [==============================] - 0s 230us/step - loss: 0.5900 - acc: 0.0000e+00\n",
      "Epoch 98/100\n",
      "200/200 [==============================] - 0s 245us/step - loss: 0.5900 - acc: 0.0000e+00\n",
      "Epoch 99/100\n",
      "200/200 [==============================] - 0s 362us/step - loss: 0.5900 - acc: 0.0000e+00\n",
      "Epoch 100/100\n",
      "200/200 [==============================] - 0s 290us/step - loss: 0.5900 - acc: 0.0000e+00\n"
     ]
    },
    {
     "data": {
      "text/plain": [
       "<keras.callbacks.History at 0x244db72d3c8>"
      ]
     },
     "execution_count": 267,
     "metadata": {},
     "output_type": "execute_result"
    }
   ],
   "source": [
    "model.fit(x_train, y_train,\n",
    "         epochs=100)"
   ]
  },
  {
   "cell_type": "code",
   "execution_count": 257,
   "metadata": {},
   "outputs": [],
   "source": [
    "y_pred = model.predict(x_train)"
   ]
  },
  {
   "cell_type": "code",
   "execution_count": 258,
   "metadata": {},
   "outputs": [
    {
     "data": {
      "text/plain": [
       "<matplotlib.collections.PathCollection at 0x244db6912b0>"
      ]
     },
     "execution_count": 258,
     "metadata": {},
     "output_type": "execute_result"
    },
    {
     "data": {
      "image/png": "[encoded data removed]",
      "text/plain": [
       "<matplotlib.figure.Figure at 0x244dd1235c0>"
      ]
     },
     "metadata": {},
     "output_type": "display_data"
    }
   ],
   "source": [
    "plt.scatter(x_train, y_pred)"
   ]
  },
  {
   "cell_type": "code",
   "execution_count": null,
   "metadata": {},
   "outputs": [],
   "source": []
  }
 ],
 "metadata": {
  "kernelspec": {
   "display_name": "Python 3",
   "language": "python",
   "name": "python3"
  },
  "language_info": {
   "codemirror_mode": {
    "name": "ipython",
    "version": 3
   },
   "file_extension": ".py",
   "mimetype": "text/x-python",
   "name": "python",
   "nbconvert_exporter": "python",
   "pygments_lexer": "ipython3",
   "version": "3.5.2"
  }
 },
 "nbformat": 4,
 "nbformat_minor": 2
}

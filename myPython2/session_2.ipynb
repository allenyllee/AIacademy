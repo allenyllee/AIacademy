{
 "cells": [
  {
   "cell_type": "markdown",
   "metadata": {
    "deletable": true,
    "editable": true
   },
   "source": [
    "## [Numpy](http://www.numpy.org/)\n",
    "NumPy is the fundamental package for scientific computing with Python. It contains among other things:\n",
    "\n",
    "* a powerful N-dimensional array object\n",
    "* sophisticated (broadcasting) functions\n",
    "* tools for integrating C/C++ and Fortran code\n",
    "* useful linear algebra, Fourier transform, and random number capabilities"
   ]
  },
  {
   "cell_type": "code",
   "execution_count": 1,
   "metadata": {
    "collapsed": true,
    "deletable": true,
    "editable": true
   },
   "outputs": [],
   "source": [
    "import numpy as np"
   ]
  },
  {
   "cell_type": "markdown",
   "metadata": {
    "deletable": true,
    "editable": true
   },
   "source": [
    "建立一維的向量，從 0 到 10，間隔為 1"
   ]
  },
  {
   "cell_type": "code",
   "execution_count": 9,
   "metadata": {
    "collapsed": false,
    "deletable": true,
    "editable": true
   },
   "outputs": [
    {
     "data": {
      "text/plain": [
       "array([0, 1, 2, 3, 4, 5, 6, 7, 8, 9])"
      ]
     },
     "execution_count": 9,
     "metadata": {},
     "output_type": "execute_result"
    }
   ],
   "source": [
    "np.arange(10)"
   ]
  },
  {
   "cell_type": "markdown",
   "metadata": {
    "deletable": true,
    "editable": true
   },
   "source": [
    "建立一維的向量，起點是 0，終點為 10，共 10 個數字"
   ]
  },
  {
   "cell_type": "code",
   "execution_count": 6,
   "metadata": {
    "collapsed": false,
    "deletable": true,
    "editable": true
   },
   "outputs": [
    {
     "data": {
      "text/plain": [
       "array([  0.        ,   1.11111111,   2.22222222,   3.33333333,\n",
       "         4.44444444,   5.55555556,   6.66666667,   7.77777778,\n",
       "         8.88888889,  10.        ])"
      ]
     },
     "execution_count": 6,
     "metadata": {},
     "output_type": "execute_result"
    }
   ],
   "source": [
    "np.linspace(0, 10, 10) "
   ]
  },
  {
   "cell_type": "markdown",
   "metadata": {
    "deletable": true,
    "editable": true
   },
   "source": [
    "求平均"
   ]
  },
  {
   "cell_type": "code",
   "execution_count": 10,
   "metadata": {
    "collapsed": false,
    "deletable": true,
    "editable": true
   },
   "outputs": [
    {
     "data": {
      "text/plain": [
       "4.5"
      ]
     },
     "execution_count": 10,
     "metadata": {},
     "output_type": "execute_result"
    }
   ],
   "source": [
    "np.mean(np.arange(10))"
   ]
  },
  {
   "cell_type": "markdown",
   "metadata": {
    "deletable": true,
    "editable": true
   },
   "source": [
    "求標準差"
   ]
  },
  {
   "cell_type": "code",
   "execution_count": 15,
   "metadata": {
    "collapsed": false,
    "deletable": true,
    "editable": true
   },
   "outputs": [
    {
     "data": {
      "text/plain": [
       "2.8722813232690143"
      ]
     },
     "execution_count": 15,
     "metadata": {},
     "output_type": "execute_result"
    }
   ],
   "source": [
    "np.std(np.arange(10))"
   ]
  },
  {
   "cell_type": "markdown",
   "metadata": {
    "deletable": true,
    "editable": true
   },
   "source": [
    "建立矩陣"
   ]
  },
  {
   "cell_type": "code",
   "execution_count": 11,
   "metadata": {
    "collapsed": true,
    "deletable": true,
    "editable": true
   },
   "outputs": [],
   "source": [
    "M = np.array([[1, 2, 3], [4, 5, 6], [7, 8, 9]])"
   ]
  },
  {
   "cell_type": "code",
   "execution_count": 13,
   "metadata": {
    "collapsed": false,
    "deletable": true,
    "editable": true
   },
   "outputs": [
    {
     "data": {
      "text/plain": [
       "array([[1, 2, 3],\n",
       "       [4, 5, 6],\n",
       "       [7, 8, 9]])"
      ]
     },
     "execution_count": 13,
     "metadata": {},
     "output_type": "execute_result"
    }
   ],
   "source": [
    "M"
   ]
  },
  {
   "cell_type": "markdown",
   "metadata": {
    "deletable": true,
    "editable": true
   },
   "source": [
    "將 M 矩陣轉置"
   ]
  },
  {
   "cell_type": "code",
   "execution_count": 16,
   "metadata": {
    "collapsed": false,
    "deletable": true,
    "editable": true
   },
   "outputs": [
    {
     "data": {
      "text/plain": [
       "array([[1, 4, 7],\n",
       "       [2, 5, 8],\n",
       "       [3, 6, 9]])"
      ]
     },
     "execution_count": 16,
     "metadata": {},
     "output_type": "execute_result"
    }
   ],
   "source": [
    "M.T"
   ]
  },
  {
   "cell_type": "markdown",
   "metadata": {
    "deletable": true,
    "editable": true
   },
   "source": [
    "取出第一列"
   ]
  },
  {
   "cell_type": "code",
   "execution_count": 18,
   "metadata": {
    "collapsed": false,
    "deletable": true,
    "editable": true
   },
   "outputs": [
    {
     "data": {
      "text/plain": [
       "array([1, 2, 3])"
      ]
     },
     "execution_count": 18,
     "metadata": {},
     "output_type": "execute_result"
    }
   ],
   "source": [
    "M[0]"
   ]
  },
  {
   "cell_type": "markdown",
   "metadata": {
    "deletable": true,
    "editable": true
   },
   "source": [
    "取出第 3 列，第 2 , 3 行的資料"
   ]
  },
  {
   "cell_type": "code",
   "execution_count": 20,
   "metadata": {
    "collapsed": false,
    "deletable": true,
    "editable": true
   },
   "outputs": [
    {
     "data": {
      "text/plain": [
       "array([8, 9])"
      ]
     },
     "execution_count": 20,
     "metadata": {},
     "output_type": "execute_result"
    }
   ],
   "source": [
    "M[2, 1:3]"
   ]
  },
  {
   "cell_type": "markdown",
   "metadata": {
    "deletable": true,
    "editable": true
   },
   "source": [
    "取出所有列，第 2, 3 行的資料"
   ]
  },
  {
   "cell_type": "code",
   "execution_count": 22,
   "metadata": {
    "collapsed": false,
    "deletable": true,
    "editable": true
   },
   "outputs": [
    {
     "data": {
      "text/plain": [
       "array([[2, 3],\n",
       "       [5, 6],\n",
       "       [8, 9]])"
      ]
     },
     "execution_count": 22,
     "metadata": {},
     "output_type": "execute_result"
    }
   ],
   "source": [
    "M[:, 1:3]"
   ]
  },
  {
   "cell_type": "markdown",
   "metadata": {
    "deletable": true,
    "editable": true
   },
   "source": [
    "檢查矩陣的 shape"
   ]
  },
  {
   "cell_type": "code",
   "execution_count": 24,
   "metadata": {
    "collapsed": false,
    "deletable": true,
    "editable": true
   },
   "outputs": [
    {
     "data": {
      "text/plain": [
       "(3, 3)"
      ]
     },
     "execution_count": 24,
     "metadata": {},
     "output_type": "execute_result"
    }
   ],
   "source": [
    "M.shape"
   ]
  },
  {
   "cell_type": "markdown",
   "metadata": {
    "deletable": true,
    "editable": true
   },
   "source": [
    "選出 M 矩陣中大於 3 的元素"
   ]
  },
  {
   "cell_type": "code",
   "execution_count": 25,
   "metadata": {
    "collapsed": false,
    "deletable": true,
    "editable": true
   },
   "outputs": [
    {
     "data": {
      "text/plain": [
       "array([4, 5, 6, 7, 8, 9])"
      ]
     },
     "execution_count": 25,
     "metadata": {},
     "output_type": "execute_result"
    }
   ],
   "source": [
    "M[M > 3]"
   ]
  },
  {
   "cell_type": "markdown",
   "metadata": {
    "deletable": true,
    "editable": true
   },
   "source": [
    "** np.expand_dims() ** 根據要求的 axis 新增一個維度"
   ]
  },
  {
   "cell_type": "code",
   "execution_count": 26,
   "metadata": {
    "collapsed": false,
    "deletable": true,
    "editable": true
   },
   "outputs": [
    {
     "name": "stdout",
     "output_type": "stream",
     "text": [
      "(3, 3)\n"
     ]
    }
   ],
   "source": [
    "a = np.array([[1, 2, 3], [4, 5, 6], [7, 8, 9]])\n",
    "print(a.shape)"
   ]
  },
  {
   "cell_type": "code",
   "execution_count": 34,
   "metadata": {
    "collapsed": true,
    "deletable": true,
    "editable": true
   },
   "outputs": [],
   "source": [
    "b = np.expand_dims(a, 2)"
   ]
  },
  {
   "cell_type": "code",
   "execution_count": 35,
   "metadata": {
    "collapsed": false,
    "deletable": true,
    "editable": true
   },
   "outputs": [
    {
     "name": "stdout",
     "output_type": "stream",
     "text": [
      "(3, 3, 1)\n"
     ]
    }
   ],
   "source": [
    "print(b.shape)"
   ]
  },
  {
   "cell_type": "code",
   "execution_count": 36,
   "metadata": {
    "collapsed": false,
    "deletable": true,
    "editable": true
   },
   "outputs": [
    {
     "data": {
      "text/plain": [
       "array([[[1],\n",
       "        [2],\n",
       "        [3]],\n",
       "\n",
       "       [[4],\n",
       "        [5],\n",
       "        [6]],\n",
       "\n",
       "       [[7],\n",
       "        [8],\n",
       "        [9]]])"
      ]
     },
     "execution_count": 36,
     "metadata": {},
     "output_type": "execute_result"
    }
   ],
   "source": [
    "b"
   ]
  },
  {
   "cell_type": "markdown",
   "metadata": {
    "deletable": true,
    "editable": true
   },
   "source": [
    "### numpy operation"
   ]
  },
  {
   "cell_type": "code",
   "execution_count": 40,
   "metadata": {
    "collapsed": false,
    "deletable": true,
    "editable": true
   },
   "outputs": [
    {
     "data": {
      "text/plain": [
       "array([[2],\n",
       "       [4]])"
      ]
     },
     "execution_count": 40,
     "metadata": {},
     "output_type": "execute_result"
    }
   ],
   "source": [
    "a = np.array([[1], [2]])\n",
    "a * 2"
   ]
  },
  {
   "cell_type": "markdown",
   "metadata": {
    "deletable": true,
    "editable": true
   },
   "source": [
    "**np.stack** 將矩陣依據要求的 axis 堆疊起來"
   ]
  },
  {
   "cell_type": "code",
   "execution_count": 44,
   "metadata": {
    "collapsed": true,
    "deletable": true,
    "editable": true
   },
   "outputs": [],
   "source": [
    "x = np.array([[1,2], [3,4]])\n",
    "y = np.array([[5,6], [7,8]])\n",
    "z = np.array([[9,0], [1,2]])"
   ]
  },
  {
   "cell_type": "code",
   "execution_count": 48,
   "metadata": {
    "collapsed": true,
    "deletable": true,
    "editable": true
   },
   "outputs": [],
   "source": [
    "stack = np.stack([x, y, z], axis=2)"
   ]
  },
  {
   "cell_type": "code",
   "execution_count": 49,
   "metadata": {
    "collapsed": false,
    "deletable": true,
    "editable": true
   },
   "outputs": [
    {
     "data": {
      "text/plain": [
       "(2, 2, 3)"
      ]
     },
     "execution_count": 49,
     "metadata": {},
     "output_type": "execute_result"
    }
   ],
   "source": [
    "stack.shape"
   ]
  },
  {
   "cell_type": "markdown",
   "metadata": {
    "deletable": true,
    "editable": true
   },
   "source": [
    "** np.vstack, np.hstack ** , 將矩陣依垂直方向, 水平方向堆疊"
   ]
  },
  {
   "cell_type": "code",
   "execution_count": 55,
   "metadata": {
    "collapsed": true,
    "deletable": true,
    "editable": true
   },
   "outputs": [],
   "source": [
    "a = np.array([1, 2, 3])\n",
    "b = np.array([5, 5, 5])"
   ]
  },
  {
   "cell_type": "code",
   "execution_count": 57,
   "metadata": {
    "collapsed": false,
    "deletable": true,
    "editable": true
   },
   "outputs": [
    {
     "data": {
      "text/plain": [
       "array([1, 2, 3, 5, 5, 5])"
      ]
     },
     "execution_count": 57,
     "metadata": {},
     "output_type": "execute_result"
    }
   ],
   "source": [
    "np.hstack((a, b))"
   ]
  },
  {
   "cell_type": "code",
   "execution_count": 59,
   "metadata": {
    "collapsed": false,
    "deletable": true,
    "editable": true
   },
   "outputs": [
    {
     "data": {
      "text/plain": [
       "array([[1, 2, 3],\n",
       "       [5, 5, 5]])"
      ]
     },
     "execution_count": 59,
     "metadata": {},
     "output_type": "execute_result"
    }
   ],
   "source": [
    "np.vstack((a, b))"
   ]
  },
  {
   "cell_type": "markdown",
   "metadata": {
    "deletable": true,
    "editable": true
   },
   "source": [
    "## 練習題\n",
    "\n",
    "以下練習若有卡住可參考或至[討論區](https://discuss.aiacademy.tw/t/topic/45)發問\n",
    "\n",
    "* [Numpy tutorial](https://docs.scipy.org/doc/numpy-dev/user/quickstart.html)"
   ]
  },
  {
   "cell_type": "code",
   "execution_count": 2,
   "metadata": {
    "collapsed": true,
    "deletable": true,
    "editable": true
   },
   "outputs": [],
   "source": [
    "import numpy as np"
   ]
  },
  {
   "cell_type": "markdown",
   "metadata": {
    "deletable": true,
    "editable": true
   },
   "source": [
    "Q1. Create a vector with values ranging from 10 to 49 by ** np.arrange ** "
   ]
  },
  {
   "cell_type": "code",
   "execution_count": null,
   "metadata": {
    "collapsed": false,
    "deletable": true,
    "editable": true
   },
   "outputs": [],
   "source": []
  },
  {
   "cell_type": "markdown",
   "metadata": {
    "deletable": true,
    "editable": true
   },
   "source": [
    "Q2. Reverse a vector (first element becomes last) "
   ]
  },
  {
   "cell_type": "code",
   "execution_count": null,
   "metadata": {
    "collapsed": false,
    "deletable": true,
    "editable": true
   },
   "outputs": [],
   "source": []
  },
  {
   "cell_type": "markdown",
   "metadata": {
    "collapsed": true,
    "deletable": true,
    "editable": true
   },
   "source": [
    "Q3. Create a 3x3x3 array with random values by ** np.random.random ** "
   ]
  },
  {
   "cell_type": "code",
   "execution_count": null,
   "metadata": {
    "collapsed": false,
    "deletable": true,
    "editable": true
   },
   "outputs": [],
   "source": []
  },
  {
   "cell_type": "markdown",
   "metadata": {
    "collapsed": true,
    "deletable": true,
    "editable": true
   },
   "source": [
    "Q4. Create a 10x10 array with random values and find the minimum and maximum values by **np.min, np.max ** "
   ]
  },
  {
   "cell_type": "code",
   "execution_count": null,
   "metadata": {
    "collapsed": false,
    "deletable": true,
    "editable": true
   },
   "outputs": [],
   "source": []
  },
  {
   "cell_type": "markdown",
   "metadata": {
    "collapsed": true,
    "deletable": true,
    "editable": true
   },
   "source": [
    "Q5. add a border (filled with 0's) around an 3 \\* 3 matrix with 1 by  ** np.pad **"
   ]
  },
  {
   "cell_type": "code",
   "execution_count": null,
   "metadata": {
    "collapsed": false,
    "deletable": true,
    "editable": true
   },
   "outputs": [],
   "source": []
  },
  {
   "cell_type": "markdown",
   "metadata": {
    "collapsed": true,
    "deletable": true,
    "editable": true
   },
   "source": [
    "Q6. Normalize a 5x5 random matrix by divide max number"
   ]
  },
  {
   "cell_type": "code",
   "execution_count": null,
   "metadata": {
    "collapsed": false,
    "deletable": true,
    "editable": true
   },
   "outputs": [],
   "source": []
  },
  {
   "cell_type": "markdown",
   "metadata": {
    "deletable": true,
    "editable": true
   },
   "source": [
    "Q7. Multiply a 5x3 matrix by a 3x2 matrix (**np.dot**) "
   ]
  },
  {
   "cell_type": "code",
   "execution_count": 4,
   "metadata": {
    "collapsed": true,
    "deletable": true,
    "editable": true
   },
   "outputs": [],
   "source": [
    "m1 = np.ones((5, 3))\n",
    "m2 = np.ones((3, 2))"
   ]
  },
  {
   "cell_type": "code",
   "execution_count": null,
   "metadata": {
    "collapsed": false,
    "deletable": true,
    "editable": true
   },
   "outputs": [],
   "source": []
  },
  {
   "cell_type": "markdown",
   "metadata": {
    "deletable": true,
    "editable": true
   },
   "source": [
    "Q8. How to convert a int (32 bits) array into an float (32 bits) by **np.astpye,  dtype**"
   ]
  },
  {
   "cell_type": "code",
   "execution_count": null,
   "metadata": {
    "collapsed": false,
    "deletable": true,
    "editable": true
   },
   "outputs": [],
   "source": []
  },
  {
   "cell_type": "markdown",
   "metadata": {
    "deletable": true,
    "editable": true
   },
   "source": [
    "Q9. Create random vector of size 10 and replace the maximum value by 0 (**np.argmax**)"
   ]
  },
  {
   "cell_type": "code",
   "execution_count": null,
   "metadata": {
    "collapsed": false,
    "deletable": true,
    "editable": true
   },
   "outputs": [],
   "source": []
  },
  {
   "cell_type": "markdown",
   "metadata": {
    "deletable": true,
    "editable": true
   },
   "source": [
    "Q10. Create a 5x5 matrix with row values ranging from 0 to 4"
   ]
  },
  {
   "cell_type": "code",
   "execution_count": null,
   "metadata": {
    "collapsed": false,
    "deletable": true,
    "editable": true
   },
   "outputs": [],
   "source": []
  },
  {
   "cell_type": "markdown",
   "metadata": {
    "collapsed": true,
    "deletable": true,
    "editable": true
   },
   "source": [
    "### 請參考 [100-numpy-exercises](https://github.com/rougier/numpy-100/blob/master/100%20Numpy%20exercises.md) 做更多 numpy 的操作練習，"
   ]
  },
  {
   "cell_type": "markdown",
   "metadata": {
    "deletable": true,
    "editable": true
   },
   "source": [
    "## [Pandas](https://pandas.pydata.org/pandas-docs/stable/#0)"
   ]
  },
  {
   "cell_type": "code",
   "execution_count": 73,
   "metadata": {
    "collapsed": false,
    "deletable": true,
    "editable": true
   },
   "outputs": [
    {
     "data": {
      "text/plain": [
       "[('Bob', 968),\n",
       " ('Jessica', 155),\n",
       " ('Mary', 77),\n",
       " ('John', 578),\n",
       " ('Mel', 973),\n",
       " ('Jim', 968)]"
      ]
     },
     "execution_count": 73,
     "metadata": {},
     "output_type": "execute_result"
    }
   ],
   "source": [
    "# The inital set of baby names and bith rates\n",
    "names = ['Bob','Jessica','Mary','John','Mel', 'Jim']\n",
    "births = [968, 155, 77, 578, 973, 968 ]\n",
    "\n",
    "BabyDataSet = list(zip(names,births))\n",
    "BabyDataSet"
   ]
  },
  {
   "cell_type": "code",
   "execution_count": 74,
   "metadata": {
    "collapsed": false,
    "deletable": true,
    "editable": true
   },
   "outputs": [
    {
     "data": {
      "text/html": [
       "<div>\n",
       "<style>\n",
       "    .dataframe thead tr:only-child th {\n",
       "        text-align: right;\n",
       "    }\n",
       "\n",
       "    .dataframe thead th {\n",
       "        text-align: left;\n",
       "    }\n",
       "\n",
       "    .dataframe tbody tr th {\n",
       "        vertical-align: top;\n",
       "    }\n",
       "</style>\n",
       "<table border=\"1\" class=\"dataframe\">\n",
       "  <thead>\n",
       "    <tr style=\"text-align: right;\">\n",
       "      <th></th>\n",
       "      <th>Names</th>\n",
       "      <th>Births</th>\n",
       "    </tr>\n",
       "  </thead>\n",
       "  <tbody>\n",
       "    <tr>\n",
       "      <th>0</th>\n",
       "      <td>Bob</td>\n",
       "      <td>968</td>\n",
       "    </tr>\n",
       "    <tr>\n",
       "      <th>1</th>\n",
       "      <td>Jessica</td>\n",
       "      <td>155</td>\n",
       "    </tr>\n",
       "    <tr>\n",
       "      <th>2</th>\n",
       "      <td>Mary</td>\n",
       "      <td>77</td>\n",
       "    </tr>\n",
       "    <tr>\n",
       "      <th>3</th>\n",
       "      <td>John</td>\n",
       "      <td>578</td>\n",
       "    </tr>\n",
       "    <tr>\n",
       "      <th>4</th>\n",
       "      <td>Mel</td>\n",
       "      <td>973</td>\n",
       "    </tr>\n",
       "    <tr>\n",
       "      <th>5</th>\n",
       "      <td>Jim</td>\n",
       "      <td>968</td>\n",
       "    </tr>\n",
       "  </tbody>\n",
       "</table>\n",
       "</div>"
      ],
      "text/plain": [
       "     Names  Births\n",
       "0      Bob     968\n",
       "1  Jessica     155\n",
       "2     Mary      77\n",
       "3     John     578\n",
       "4      Mel     973\n",
       "5      Jim     968"
      ]
     },
     "execution_count": 74,
     "metadata": {},
     "output_type": "execute_result"
    }
   ],
   "source": [
    "import pandas as pd\n",
    "\n",
    "df = pd.DataFrame(data=BabyDataSet, columns=['Names', 'Births'])\n",
    "df"
   ]
  },
  {
   "cell_type": "markdown",
   "metadata": {
    "deletable": true,
    "editable": true
   },
   "source": [
    "將資料儲存成 csv"
   ]
  },
  {
   "cell_type": "code",
   "execution_count": 75,
   "metadata": {
    "collapsed": true,
    "deletable": true,
    "editable": true
   },
   "outputs": [],
   "source": [
    "df.to_csv(\"birth_data.csv\", index=False)"
   ]
  },
  {
   "cell_type": "markdown",
   "metadata": {
    "deletable": true,
    "editable": true
   },
   "source": [
    "讀取 csv "
   ]
  },
  {
   "cell_type": "code",
   "execution_count": 190,
   "metadata": {
    "collapsed": true,
    "deletable": true,
    "editable": true
   },
   "outputs": [],
   "source": [
    "df = pd.read_csv(\"birth_data.csv\")"
   ]
  },
  {
   "cell_type": "code",
   "execution_count": 191,
   "metadata": {
    "collapsed": false,
    "deletable": true,
    "editable": true
   },
   "outputs": [
    {
     "data": {
      "text/html": [
       "<div>\n",
       "<style>\n",
       "    .dataframe thead tr:only-child th {\n",
       "        text-align: right;\n",
       "    }\n",
       "\n",
       "    .dataframe thead th {\n",
       "        text-align: left;\n",
       "    }\n",
       "\n",
       "    .dataframe tbody tr th {\n",
       "        vertical-align: top;\n",
       "    }\n",
       "</style>\n",
       "<table border=\"1\" class=\"dataframe\">\n",
       "  <thead>\n",
       "    <tr style=\"text-align: right;\">\n",
       "      <th></th>\n",
       "      <th>Names</th>\n",
       "      <th>Births</th>\n",
       "    </tr>\n",
       "  </thead>\n",
       "  <tbody>\n",
       "    <tr>\n",
       "      <th>0</th>\n",
       "      <td>Bob</td>\n",
       "      <td>968</td>\n",
       "    </tr>\n",
       "    <tr>\n",
       "      <th>1</th>\n",
       "      <td>Jessica</td>\n",
       "      <td>155</td>\n",
       "    </tr>\n",
       "    <tr>\n",
       "      <th>2</th>\n",
       "      <td>Mary</td>\n",
       "      <td>77</td>\n",
       "    </tr>\n",
       "    <tr>\n",
       "      <th>3</th>\n",
       "      <td>John</td>\n",
       "      <td>578</td>\n",
       "    </tr>\n",
       "    <tr>\n",
       "      <th>4</th>\n",
       "      <td>Mel</td>\n",
       "      <td>973</td>\n",
       "    </tr>\n",
       "  </tbody>\n",
       "</table>\n",
       "</div>"
      ],
      "text/plain": [
       "     Names  Births\n",
       "0      Bob     968\n",
       "1  Jessica     155\n",
       "2     Mary      77\n",
       "3     John     578\n",
       "4      Mel     973"
      ]
     },
     "execution_count": 191,
     "metadata": {},
     "output_type": "execute_result"
    }
   ],
   "source": [
    "## 觀察前五列\n",
    "df.head()"
   ]
  },
  {
   "cell_type": "code",
   "execution_count": 17,
   "metadata": {
    "collapsed": true,
    "deletable": true,
    "editable": true
   },
   "outputs": [],
   "source": [
    "import numpy as np\n",
    "# set seed\n",
    "np.random.seed(111)\n",
    "\n",
    "# Function to generate test data\n",
    "def CreateDataSet(Number=1):\n",
    "    Output = []\n",
    "    for i in range(Number):\n",
    "        # Create a weekly (mondays) date range\n",
    "        rng = pd.date_range(start='1/1/2009', end='12/31/2012', freq='W-MON')\n",
    "        \n",
    "        # Create random data\n",
    "        data = np.random.randint(low=25, high=1000, size=len(rng))\n",
    "        \n",
    "        # Status pool\n",
    "        status = [1,2,3]\n",
    "        \n",
    "        # Make a random list of statuses\n",
    "        random_status = [status[np.random.randint(low=0, high=len(status))] for i in range(len(rng))]\n",
    "        \n",
    "        # State pool\n",
    "        states = ['GA','FL','fl','NY','NJ','TX']\n",
    "        \n",
    "        # Make a random list of states \n",
    "        random_states = [states[np.random.randint(low=0, high=len(states))] for i in range(len(rng))]\n",
    "    \n",
    "        Output.extend(zip(random_states, random_status, data, rng))\n",
    "        \n",
    "    return Output"
   ]
  },
  {
   "cell_type": "code",
   "execution_count": 18,
   "metadata": {
    "collapsed": false,
    "deletable": true,
    "editable": true
   },
   "outputs": [
    {
     "data": {
      "text/html": [
       "<div>\n",
       "<style>\n",
       "    .dataframe thead tr:only-child th {\n",
       "        text-align: right;\n",
       "    }\n",
       "\n",
       "    .dataframe thead th {\n",
       "        text-align: left;\n",
       "    }\n",
       "\n",
       "    .dataframe tbody tr th {\n",
       "        vertical-align: top;\n",
       "    }\n",
       "</style>\n",
       "<table border=\"1\" class=\"dataframe\">\n",
       "  <thead>\n",
       "    <tr style=\"text-align: right;\">\n",
       "      <th></th>\n",
       "      <th>State</th>\n",
       "      <th>Status</th>\n",
       "      <th>CustomerCount</th>\n",
       "      <th>StatusDate</th>\n",
       "    </tr>\n",
       "  </thead>\n",
       "  <tbody>\n",
       "    <tr>\n",
       "      <th>0</th>\n",
       "      <td>GA</td>\n",
       "      <td>1</td>\n",
       "      <td>877</td>\n",
       "      <td>2009-01-05</td>\n",
       "    </tr>\n",
       "    <tr>\n",
       "      <th>1</th>\n",
       "      <td>FL</td>\n",
       "      <td>1</td>\n",
       "      <td>901</td>\n",
       "      <td>2009-01-12</td>\n",
       "    </tr>\n",
       "    <tr>\n",
       "      <th>2</th>\n",
       "      <td>fl</td>\n",
       "      <td>3</td>\n",
       "      <td>749</td>\n",
       "      <td>2009-01-19</td>\n",
       "    </tr>\n",
       "    <tr>\n",
       "      <th>3</th>\n",
       "      <td>FL</td>\n",
       "      <td>3</td>\n",
       "      <td>111</td>\n",
       "      <td>2009-01-26</td>\n",
       "    </tr>\n",
       "    <tr>\n",
       "      <th>4</th>\n",
       "      <td>GA</td>\n",
       "      <td>1</td>\n",
       "      <td>300</td>\n",
       "      <td>2009-02-02</td>\n",
       "    </tr>\n",
       "  </tbody>\n",
       "</table>\n",
       "</div>"
      ],
      "text/plain": [
       "  State  Status  CustomerCount StatusDate\n",
       "0    GA       1            877 2009-01-05\n",
       "1    FL       1            901 2009-01-12\n",
       "2    fl       3            749 2009-01-19\n",
       "3    FL       3            111 2009-01-26\n",
       "4    GA       1            300 2009-02-02"
      ]
     },
     "execution_count": 18,
     "metadata": {},
     "output_type": "execute_result"
    }
   ],
   "source": [
    "dataset = CreateDataSet(4)\n",
    "df = pd.DataFrame(data=dataset, columns=['State','Status','CustomerCount','StatusDate'])\n",
    "df.head()"
   ]
  },
  {
   "cell_type": "code",
   "execution_count": 19,
   "metadata": {
    "collapsed": false,
    "deletable": true,
    "editable": true
   },
   "outputs": [
    {
     "data": {
      "text/plain": [
       "array(['GA', 'FL', 'fl', 'TX', 'NY', 'NJ'], dtype=object)"
      ]
     },
     "execution_count": 19,
     "metadata": {},
     "output_type": "execute_result"
    }
   ],
   "source": [
    "df[\"State\"].unique()"
   ]
  },
  {
   "cell_type": "code",
   "execution_count": 21,
   "metadata": {
    "collapsed": false,
    "deletable": true,
    "editable": true
   },
   "outputs": [
    {
     "data": {
      "text/plain": [
       "GA    147\n",
       "fl    146\n",
       "FL    145\n",
       "NJ    140\n",
       "TX    134\n",
       "NY    124\n",
       "Name: State, dtype: int64"
      ]
     },
     "execution_count": 21,
     "metadata": {},
     "output_type": "execute_result"
    }
   ],
   "source": [
    "df['State'].value_counts()"
   ]
  },
  {
   "cell_type": "code",
   "execution_count": 20,
   "metadata": {
    "collapsed": false,
    "deletable": true,
    "editable": true
   },
   "outputs": [
    {
     "name": "stdout",
     "output_type": "stream",
     "text": [
      "<class 'pandas.core.frame.DataFrame'>\n",
      "RangeIndex: 836 entries, 0 to 835\n",
      "Data columns (total 4 columns):\n",
      "State            836 non-null object\n",
      "Status           836 non-null int64\n",
      "CustomerCount    836 non-null int64\n",
      "StatusDate       836 non-null datetime64[ns]\n",
      "dtypes: datetime64[ns](1), int64(2), object(1)\n",
      "memory usage: 26.2+ KB\n"
     ]
    }
   ],
   "source": [
    "df.info()"
   ]
  },
  {
   "cell_type": "code",
   "execution_count": 197,
   "metadata": {
    "collapsed": false,
    "deletable": true,
    "editable": true
   },
   "outputs": [
    {
     "data": {
      "text/html": [
       "<div>\n",
       "<style>\n",
       "    .dataframe thead tr:only-child th {\n",
       "        text-align: right;\n",
       "    }\n",
       "\n",
       "    .dataframe thead th {\n",
       "        text-align: left;\n",
       "    }\n",
       "\n",
       "    .dataframe tbody tr th {\n",
       "        vertical-align: top;\n",
       "    }\n",
       "</style>\n",
       "<table border=\"1\" class=\"dataframe\">\n",
       "  <thead>\n",
       "    <tr style=\"text-align: right;\">\n",
       "      <th></th>\n",
       "      <th>State</th>\n",
       "      <th>Status</th>\n",
       "      <th>CustomerCount</th>\n",
       "      <th>StatusDate</th>\n",
       "    </tr>\n",
       "  </thead>\n",
       "  <tbody>\n",
       "    <tr>\n",
       "      <th>1</th>\n",
       "      <td>FL</td>\n",
       "      <td>1</td>\n",
       "      <td>901</td>\n",
       "      <td>2009-01-12</td>\n",
       "    </tr>\n",
       "    <tr>\n",
       "      <th>3</th>\n",
       "      <td>FL</td>\n",
       "      <td>3</td>\n",
       "      <td>111</td>\n",
       "      <td>2009-01-26</td>\n",
       "    </tr>\n",
       "    <tr>\n",
       "      <th>5</th>\n",
       "      <td>FL</td>\n",
       "      <td>2</td>\n",
       "      <td>706</td>\n",
       "      <td>2009-02-09</td>\n",
       "    </tr>\n",
       "    <tr>\n",
       "      <th>8</th>\n",
       "      <td>FL</td>\n",
       "      <td>3</td>\n",
       "      <td>833</td>\n",
       "      <td>2009-03-02</td>\n",
       "    </tr>\n",
       "    <tr>\n",
       "      <th>22</th>\n",
       "      <td>FL</td>\n",
       "      <td>2</td>\n",
       "      <td>737</td>\n",
       "      <td>2009-06-08</td>\n",
       "    </tr>\n",
       "    <tr>\n",
       "      <th>28</th>\n",
       "      <td>FL</td>\n",
       "      <td>1</td>\n",
       "      <td>710</td>\n",
       "      <td>2009-07-20</td>\n",
       "    </tr>\n",
       "    <tr>\n",
       "      <th>35</th>\n",
       "      <td>FL</td>\n",
       "      <td>3</td>\n",
       "      <td>587</td>\n",
       "      <td>2009-09-07</td>\n",
       "    </tr>\n",
       "    <tr>\n",
       "      <th>42</th>\n",
       "      <td>FL</td>\n",
       "      <td>3</td>\n",
       "      <td>930</td>\n",
       "      <td>2009-10-26</td>\n",
       "    </tr>\n",
       "    <tr>\n",
       "      <th>43</th>\n",
       "      <td>FL</td>\n",
       "      <td>3</td>\n",
       "      <td>195</td>\n",
       "      <td>2009-11-02</td>\n",
       "    </tr>\n",
       "    <tr>\n",
       "      <th>49</th>\n",
       "      <td>FL</td>\n",
       "      <td>3</td>\n",
       "      <td>510</td>\n",
       "      <td>2009-12-14</td>\n",
       "    </tr>\n",
       "  </tbody>\n",
       "</table>\n",
       "</div>"
      ],
      "text/plain": [
       "   State  Status  CustomerCount StatusDate\n",
       "1     FL       1            901 2009-01-12\n",
       "3     FL       3            111 2009-01-26\n",
       "5     FL       2            706 2009-02-09\n",
       "8     FL       3            833 2009-03-02\n",
       "22    FL       2            737 2009-06-08\n",
       "28    FL       1            710 2009-07-20\n",
       "35    FL       3            587 2009-09-07\n",
       "42    FL       3            930 2009-10-26\n",
       "43    FL       3            195 2009-11-02\n",
       "49    FL       3            510 2009-12-14"
      ]
     },
     "execution_count": 197,
     "metadata": {},
     "output_type": "execute_result"
    }
   ],
   "source": [
    "df.loc[df.State == 'FL'].head(10)"
   ]
  },
  {
   "cell_type": "code",
   "execution_count": 198,
   "metadata": {
    "collapsed": false,
    "deletable": true,
    "editable": true
   },
   "outputs": [
    {
     "data": {
      "text/html": [
       "<div>\n",
       "<style>\n",
       "    .dataframe thead tr:only-child th {\n",
       "        text-align: right;\n",
       "    }\n",
       "\n",
       "    .dataframe thead th {\n",
       "        text-align: left;\n",
       "    }\n",
       "\n",
       "    .dataframe tbody tr th {\n",
       "        vertical-align: top;\n",
       "    }\n",
       "</style>\n",
       "<table border=\"1\" class=\"dataframe\">\n",
       "  <thead>\n",
       "    <tr style=\"text-align: right;\">\n",
       "      <th></th>\n",
       "      <th>State</th>\n",
       "      <th>Status</th>\n",
       "      <th>CustomerCount</th>\n",
       "      <th>StatusDate</th>\n",
       "    </tr>\n",
       "  </thead>\n",
       "  <tbody>\n",
       "    <tr>\n",
       "      <th>3</th>\n",
       "      <td>FL</td>\n",
       "      <td>3</td>\n",
       "      <td>111</td>\n",
       "      <td>2009-01-26</td>\n",
       "    </tr>\n",
       "    <tr>\n",
       "      <th>8</th>\n",
       "      <td>FL</td>\n",
       "      <td>3</td>\n",
       "      <td>833</td>\n",
       "      <td>2009-03-02</td>\n",
       "    </tr>\n",
       "    <tr>\n",
       "      <th>35</th>\n",
       "      <td>FL</td>\n",
       "      <td>3</td>\n",
       "      <td>587</td>\n",
       "      <td>2009-09-07</td>\n",
       "    </tr>\n",
       "    <tr>\n",
       "      <th>42</th>\n",
       "      <td>FL</td>\n",
       "      <td>3</td>\n",
       "      <td>930</td>\n",
       "      <td>2009-10-26</td>\n",
       "    </tr>\n",
       "    <tr>\n",
       "      <th>43</th>\n",
       "      <td>FL</td>\n",
       "      <td>3</td>\n",
       "      <td>195</td>\n",
       "      <td>2009-11-02</td>\n",
       "    </tr>\n",
       "    <tr>\n",
       "      <th>49</th>\n",
       "      <td>FL</td>\n",
       "      <td>3</td>\n",
       "      <td>510</td>\n",
       "      <td>2009-12-14</td>\n",
       "    </tr>\n",
       "    <tr>\n",
       "      <th>150</th>\n",
       "      <td>FL</td>\n",
       "      <td>3</td>\n",
       "      <td>847</td>\n",
       "      <td>2011-11-21</td>\n",
       "    </tr>\n",
       "    <tr>\n",
       "      <th>160</th>\n",
       "      <td>FL</td>\n",
       "      <td>3</td>\n",
       "      <td>883</td>\n",
       "      <td>2012-01-30</td>\n",
       "    </tr>\n",
       "    <tr>\n",
       "      <th>166</th>\n",
       "      <td>FL</td>\n",
       "      <td>3</td>\n",
       "      <td>109</td>\n",
       "      <td>2012-03-12</td>\n",
       "    </tr>\n",
       "    <tr>\n",
       "      <th>204</th>\n",
       "      <td>FL</td>\n",
       "      <td>3</td>\n",
       "      <td>222</td>\n",
       "      <td>2012-12-03</td>\n",
       "    </tr>\n",
       "  </tbody>\n",
       "</table>\n",
       "</div>"
      ],
      "text/plain": [
       "    State  Status  CustomerCount StatusDate\n",
       "3      FL       3            111 2009-01-26\n",
       "8      FL       3            833 2009-03-02\n",
       "35     FL       3            587 2009-09-07\n",
       "42     FL       3            930 2009-10-26\n",
       "43     FL       3            195 2009-11-02\n",
       "49     FL       3            510 2009-12-14\n",
       "150    FL       3            847 2011-11-21\n",
       "160    FL       3            883 2012-01-30\n",
       "166    FL       3            109 2012-03-12\n",
       "204    FL       3            222 2012-12-03"
      ]
     },
     "execution_count": 198,
     "metadata": {},
     "output_type": "execute_result"
    }
   ],
   "source": [
    "df.loc[(df.State == 'FL') & (df['Status'] == 3)].head(10)"
   ]
  },
  {
   "cell_type": "code",
   "execution_count": 199,
   "metadata": {
    "collapsed": false,
    "deletable": true,
    "editable": true
   },
   "outputs": [
    {
     "name": "stdout",
     "output_type": "stream",
     "text": [
      "0    1\n",
      "1    1\n",
      "2    3\n",
      "3    3\n",
      "4    1\n",
      "5    2\n",
      "6    3\n",
      "7    2\n",
      "8    3\n",
      "9    1\n",
      "Name: Status, dtype: int64\n"
     ]
    }
   ],
   "source": [
    "print(df['Status'].head(10))"
   ]
  },
  {
   "cell_type": "code",
   "execution_count": 200,
   "metadata": {
    "collapsed": false,
    "deletable": true,
    "editable": true
   },
   "outputs": [
    {
     "name": "stdout",
     "output_type": "stream",
     "text": [
      "0    2\n",
      "1    2\n",
      "2    4\n",
      "3    4\n",
      "4    2\n",
      "Name: Status, dtype: int64\n"
     ]
    }
   ],
   "source": [
    "print((df['Status'] + 1).head())"
   ]
  },
  {
   "cell_type": "code",
   "execution_count": 201,
   "metadata": {
    "collapsed": false,
    "deletable": true,
    "editable": true
   },
   "outputs": [
    {
     "name": "stdout",
     "output_type": "stream",
     "text": [
      "State            836\n",
      "Status           836\n",
      "CustomerCount    836\n",
      "StatusDate       836\n",
      "dtype: int64\n"
     ]
    }
   ],
   "source": [
    "print(df.apply(len, axis=0))"
   ]
  },
  {
   "cell_type": "code",
   "execution_count": 202,
   "metadata": {
    "collapsed": false,
    "deletable": true,
    "editable": true
   },
   "outputs": [
    {
     "name": "stdout",
     "output_type": "stream",
     "text": [
      "0      4\n",
      "1      4\n",
      "2      4\n",
      "3      4\n",
      "4      4\n",
      "5      4\n",
      "6      4\n",
      "7      4\n",
      "8      4\n",
      "9      4\n",
      "10     4\n",
      "11     4\n",
      "12     4\n",
      "13     4\n",
      "14     4\n",
      "15     4\n",
      "16     4\n",
      "17     4\n",
      "18     4\n",
      "19     4\n",
      "20     4\n",
      "21     4\n",
      "22     4\n",
      "23     4\n",
      "24     4\n",
      "25     4\n",
      "26     4\n",
      "27     4\n",
      "28     4\n",
      "29     4\n",
      "      ..\n",
      "806    4\n",
      "807    4\n",
      "808    4\n",
      "809    4\n",
      "810    4\n",
      "811    4\n",
      "812    4\n",
      "813    4\n",
      "814    4\n",
      "815    4\n",
      "816    4\n",
      "817    4\n",
      "818    4\n",
      "819    4\n",
      "820    4\n",
      "821    4\n",
      "822    4\n",
      "823    4\n",
      "824    4\n",
      "825    4\n",
      "826    4\n",
      "827    4\n",
      "828    4\n",
      "829    4\n",
      "830    4\n",
      "831    4\n",
      "832    4\n",
      "833    4\n",
      "834    4\n",
      "835    4\n",
      "Length: 836, dtype: int64\n"
     ]
    }
   ],
   "source": [
    "print(df.apply(len, axis=1))"
   ]
  },
  {
   "cell_type": "code",
   "execution_count": 203,
   "metadata": {
    "collapsed": false,
    "deletable": true,
    "editable": true
   },
   "outputs": [
    {
     "data": {
      "text/html": [
       "<div>\n",
       "<style>\n",
       "    .dataframe thead tr:only-child th {\n",
       "        text-align: right;\n",
       "    }\n",
       "\n",
       "    .dataframe thead th {\n",
       "        text-align: left;\n",
       "    }\n",
       "\n",
       "    .dataframe tbody tr th {\n",
       "        vertical-align: top;\n",
       "    }\n",
       "</style>\n",
       "<table border=\"1\" class=\"dataframe\">\n",
       "  <thead>\n",
       "    <tr style=\"text-align: right;\">\n",
       "      <th></th>\n",
       "      <th>State</th>\n",
       "      <th>Status</th>\n",
       "      <th>CustomerCount</th>\n",
       "      <th>StatusDate</th>\n",
       "    </tr>\n",
       "  </thead>\n",
       "  <tbody>\n",
       "    <tr>\n",
       "      <th>15</th>\n",
       "      <td>NJ</td>\n",
       "      <td>2</td>\n",
       "      <td>905</td>\n",
       "      <td>2009-04-20</td>\n",
       "    </tr>\n",
       "    <tr>\n",
       "      <th>16</th>\n",
       "      <td>NJ</td>\n",
       "      <td>1</td>\n",
       "      <td>753</td>\n",
       "      <td>2009-04-27</td>\n",
       "    </tr>\n",
       "    <tr>\n",
       "      <th>23</th>\n",
       "      <td>NJ</td>\n",
       "      <td>3</td>\n",
       "      <td>62</td>\n",
       "      <td>2009-06-15</td>\n",
       "    </tr>\n",
       "    <tr>\n",
       "      <th>29</th>\n",
       "      <td>NJ</td>\n",
       "      <td>1</td>\n",
       "      <td>990</td>\n",
       "      <td>2009-07-27</td>\n",
       "    </tr>\n",
       "    <tr>\n",
       "      <th>36</th>\n",
       "      <td>NJ</td>\n",
       "      <td>1</td>\n",
       "      <td>772</td>\n",
       "      <td>2009-09-14</td>\n",
       "    </tr>\n",
       "    <tr>\n",
       "      <th>38</th>\n",
       "      <td>NJ</td>\n",
       "      <td>1</td>\n",
       "      <td>349</td>\n",
       "      <td>2009-09-28</td>\n",
       "    </tr>\n",
       "    <tr>\n",
       "      <th>45</th>\n",
       "      <td>NJ</td>\n",
       "      <td>2</td>\n",
       "      <td>634</td>\n",
       "      <td>2009-11-16</td>\n",
       "    </tr>\n",
       "    <tr>\n",
       "      <th>46</th>\n",
       "      <td>NJ</td>\n",
       "      <td>2</td>\n",
       "      <td>959</td>\n",
       "      <td>2009-11-23</td>\n",
       "    </tr>\n",
       "    <tr>\n",
       "      <th>50</th>\n",
       "      <td>NJ</td>\n",
       "      <td>3</td>\n",
       "      <td>285</td>\n",
       "      <td>2009-12-21</td>\n",
       "    </tr>\n",
       "    <tr>\n",
       "      <th>53</th>\n",
       "      <td>NJ</td>\n",
       "      <td>2</td>\n",
       "      <td>164</td>\n",
       "      <td>2010-01-11</td>\n",
       "    </tr>\n",
       "  </tbody>\n",
       "</table>\n",
       "</div>"
      ],
      "text/plain": [
       "   State  Status  CustomerCount StatusDate\n",
       "15    NJ       2            905 2009-04-20\n",
       "16    NJ       1            753 2009-04-27\n",
       "23    NJ       3             62 2009-06-15\n",
       "29    NJ       1            990 2009-07-27\n",
       "36    NJ       1            772 2009-09-14\n",
       "38    NJ       1            349 2009-09-28\n",
       "45    NJ       2            634 2009-11-16\n",
       "46    NJ       2            959 2009-11-23\n",
       "50    NJ       3            285 2009-12-21\n",
       "53    NJ       2            164 2010-01-11"
      ]
     },
     "execution_count": 203,
     "metadata": {},
     "output_type": "execute_result"
    }
   ],
   "source": [
    "g_state = df.groupby(['State'], axis=0)\n",
    "g_state.get_group('NJ').head(10)"
   ]
  },
  {
   "cell_type": "code",
   "execution_count": 99,
   "metadata": {
    "collapsed": false,
    "deletable": true,
    "editable": true
   },
   "outputs": [
    {
     "data": {
      "text/html": [
       "<div>\n",
       "<style>\n",
       "    .dataframe thead tr:only-child th {\n",
       "        text-align: right;\n",
       "    }\n",
       "\n",
       "    .dataframe thead th {\n",
       "        text-align: left;\n",
       "    }\n",
       "\n",
       "    .dataframe tbody tr th {\n",
       "        vertical-align: top;\n",
       "    }\n",
       "</style>\n",
       "<table border=\"1\" class=\"dataframe\">\n",
       "  <thead>\n",
       "    <tr style=\"text-align: right;\">\n",
       "      <th></th>\n",
       "      <th>Status</th>\n",
       "      <th>CustomerCount</th>\n",
       "    </tr>\n",
       "    <tr>\n",
       "      <th>State</th>\n",
       "      <th></th>\n",
       "      <th></th>\n",
       "    </tr>\n",
       "  </thead>\n",
       "  <tbody>\n",
       "    <tr>\n",
       "      <th>FL</th>\n",
       "      <td>288</td>\n",
       "      <td>73846</td>\n",
       "    </tr>\n",
       "    <tr>\n",
       "      <th>GA</th>\n",
       "      <td>302</td>\n",
       "      <td>76117</td>\n",
       "    </tr>\n",
       "    <tr>\n",
       "      <th>NJ</th>\n",
       "      <td>286</td>\n",
       "      <td>79629</td>\n",
       "    </tr>\n",
       "    <tr>\n",
       "      <th>NY</th>\n",
       "      <td>239</td>\n",
       "      <td>63299</td>\n",
       "    </tr>\n",
       "    <tr>\n",
       "      <th>TX</th>\n",
       "      <td>276</td>\n",
       "      <td>59603</td>\n",
       "    </tr>\n",
       "    <tr>\n",
       "      <th>fl</th>\n",
       "      <td>299</td>\n",
       "      <td>75973</td>\n",
       "    </tr>\n",
       "  </tbody>\n",
       "</table>\n",
       "</div>"
      ],
      "text/plain": [
       "       Status  CustomerCount\n",
       "State                       \n",
       "FL        288          73846\n",
       "GA        302          76117\n",
       "NJ        286          79629\n",
       "NY        239          63299\n",
       "TX        276          59603\n",
       "fl        299          75973"
      ]
     },
     "execution_count": 99,
     "metadata": {},
     "output_type": "execute_result"
    }
   ],
   "source": [
    "g_state.sum()"
   ]
  },
  {
   "cell_type": "code",
   "execution_count": 101,
   "metadata": {
    "collapsed": false,
    "deletable": true,
    "editable": true
   },
   "outputs": [
    {
     "data": {
      "text/html": [
       "<div>\n",
       "<style>\n",
       "    .dataframe thead tr:only-child th {\n",
       "        text-align: right;\n",
       "    }\n",
       "\n",
       "    .dataframe thead th {\n",
       "        text-align: left;\n",
       "    }\n",
       "\n",
       "    .dataframe tbody tr th {\n",
       "        vertical-align: top;\n",
       "    }\n",
       "</style>\n",
       "<table border=\"1\" class=\"dataframe\">\n",
       "  <thead>\n",
       "    <tr style=\"text-align: right;\">\n",
       "      <th></th>\n",
       "      <th></th>\n",
       "      <th>Status</th>\n",
       "      <th>CustomerCount</th>\n",
       "    </tr>\n",
       "    <tr>\n",
       "      <th>StatusDate</th>\n",
       "      <th>State</th>\n",
       "      <th></th>\n",
       "      <th></th>\n",
       "    </tr>\n",
       "  </thead>\n",
       "  <tbody>\n",
       "    <tr>\n",
       "      <th rowspan=\"4\" valign=\"top\">2009-01-05</th>\n",
       "      <th>FL</th>\n",
       "      <td>3</td>\n",
       "      <td>638</td>\n",
       "    </tr>\n",
       "    <tr>\n",
       "      <th>GA</th>\n",
       "      <td>1</td>\n",
       "      <td>877</td>\n",
       "    </tr>\n",
       "    <tr>\n",
       "      <th>NY</th>\n",
       "      <td>2</td>\n",
       "      <td>882</td>\n",
       "    </tr>\n",
       "    <tr>\n",
       "      <th>fl</th>\n",
       "      <td>3</td>\n",
       "      <td>122</td>\n",
       "    </tr>\n",
       "    <tr>\n",
       "      <th rowspan=\"3\" valign=\"top\">2009-01-12</th>\n",
       "      <th>FL</th>\n",
       "      <td>4</td>\n",
       "      <td>1583</td>\n",
       "    </tr>\n",
       "    <tr>\n",
       "      <th>GA</th>\n",
       "      <td>3</td>\n",
       "      <td>813</td>\n",
       "    </tr>\n",
       "    <tr>\n",
       "      <th>fl</th>\n",
       "      <td>3</td>\n",
       "      <td>955</td>\n",
       "    </tr>\n",
       "    <tr>\n",
       "      <th rowspan=\"3\" valign=\"top\">2009-01-19</th>\n",
       "      <th>NY</th>\n",
       "      <td>1</td>\n",
       "      <td>522</td>\n",
       "    </tr>\n",
       "    <tr>\n",
       "      <th>TX</th>\n",
       "      <td>3</td>\n",
       "      <td>771</td>\n",
       "    </tr>\n",
       "    <tr>\n",
       "      <th>fl</th>\n",
       "      <td>6</td>\n",
       "      <td>895</td>\n",
       "    </tr>\n",
       "    <tr>\n",
       "      <th rowspan=\"4\" valign=\"top\">2009-01-26</th>\n",
       "      <th>FL</th>\n",
       "      <td>3</td>\n",
       "      <td>111</td>\n",
       "    </tr>\n",
       "    <tr>\n",
       "      <th>GA</th>\n",
       "      <td>2</td>\n",
       "      <td>755</td>\n",
       "    </tr>\n",
       "    <tr>\n",
       "      <th>NJ</th>\n",
       "      <td>2</td>\n",
       "      <td>999</td>\n",
       "    </tr>\n",
       "    <tr>\n",
       "      <th>fl</th>\n",
       "      <td>3</td>\n",
       "      <td>436</td>\n",
       "    </tr>\n",
       "    <tr>\n",
       "      <th rowspan=\"3\" valign=\"top\">2009-02-02</th>\n",
       "      <th>GA</th>\n",
       "      <td>1</td>\n",
       "      <td>300</td>\n",
       "    </tr>\n",
       "    <tr>\n",
       "      <th>TX</th>\n",
       "      <td>2</td>\n",
       "      <td>398</td>\n",
       "    </tr>\n",
       "    <tr>\n",
       "      <th>fl</th>\n",
       "      <td>4</td>\n",
       "      <td>1506</td>\n",
       "    </tr>\n",
       "    <tr>\n",
       "      <th rowspan=\"4\" valign=\"top\">2009-02-09</th>\n",
       "      <th>FL</th>\n",
       "      <td>2</td>\n",
       "      <td>706</td>\n",
       "    </tr>\n",
       "    <tr>\n",
       "      <th>NJ</th>\n",
       "      <td>2</td>\n",
       "      <td>500</td>\n",
       "    </tr>\n",
       "    <tr>\n",
       "      <th>TX</th>\n",
       "      <td>2</td>\n",
       "      <td>69</td>\n",
       "    </tr>\n",
       "    <tr>\n",
       "      <th>fl</th>\n",
       "      <td>3</td>\n",
       "      <td>263</td>\n",
       "    </tr>\n",
       "    <tr>\n",
       "      <th rowspan=\"2\" valign=\"top\">2009-02-16</th>\n",
       "      <th>GA</th>\n",
       "      <td>6</td>\n",
       "      <td>1636</td>\n",
       "    </tr>\n",
       "    <tr>\n",
       "      <th>TX</th>\n",
       "      <td>3</td>\n",
       "      <td>347</td>\n",
       "    </tr>\n",
       "    <tr>\n",
       "      <th rowspan=\"3\" valign=\"top\">2009-02-23</th>\n",
       "      <th>GA</th>\n",
       "      <td>3</td>\n",
       "      <td>673</td>\n",
       "    </tr>\n",
       "    <tr>\n",
       "      <th>NJ</th>\n",
       "      <td>1</td>\n",
       "      <td>710</td>\n",
       "    </tr>\n",
       "    <tr>\n",
       "      <th>fl</th>\n",
       "      <td>5</td>\n",
       "      <td>577</td>\n",
       "    </tr>\n",
       "    <tr>\n",
       "      <th rowspan=\"3\" valign=\"top\">2009-03-02</th>\n",
       "      <th>FL</th>\n",
       "      <td>3</td>\n",
       "      <td>833</td>\n",
       "    </tr>\n",
       "    <tr>\n",
       "      <th>NJ</th>\n",
       "      <td>5</td>\n",
       "      <td>1113</td>\n",
       "    </tr>\n",
       "    <tr>\n",
       "      <th>NY</th>\n",
       "      <td>3</td>\n",
       "      <td>941</td>\n",
       "    </tr>\n",
       "    <tr>\n",
       "      <th>2009-03-09</th>\n",
       "      <th>GA</th>\n",
       "      <td>3</td>\n",
       "      <td>759</td>\n",
       "    </tr>\n",
       "    <tr>\n",
       "      <th>...</th>\n",
       "      <th>...</th>\n",
       "      <td>...</td>\n",
       "      <td>...</td>\n",
       "    </tr>\n",
       "    <tr>\n",
       "      <th rowspan=\"3\" valign=\"top\">2012-10-29</th>\n",
       "      <th>GA</th>\n",
       "      <td>2</td>\n",
       "      <td>380</td>\n",
       "    </tr>\n",
       "    <tr>\n",
       "      <th>NJ</th>\n",
       "      <td>3</td>\n",
       "      <td>247</td>\n",
       "    </tr>\n",
       "    <tr>\n",
       "      <th>TX</th>\n",
       "      <td>3</td>\n",
       "      <td>316</td>\n",
       "    </tr>\n",
       "    <tr>\n",
       "      <th rowspan=\"4\" valign=\"top\">2012-11-05</th>\n",
       "      <th>FL</th>\n",
       "      <td>3</td>\n",
       "      <td>569</td>\n",
       "    </tr>\n",
       "    <tr>\n",
       "      <th>GA</th>\n",
       "      <td>3</td>\n",
       "      <td>564</td>\n",
       "    </tr>\n",
       "    <tr>\n",
       "      <th>NY</th>\n",
       "      <td>1</td>\n",
       "      <td>162</td>\n",
       "    </tr>\n",
       "    <tr>\n",
       "      <th>fl</th>\n",
       "      <td>2</td>\n",
       "      <td>105</td>\n",
       "    </tr>\n",
       "    <tr>\n",
       "      <th rowspan=\"2\" valign=\"top\">2012-11-12</th>\n",
       "      <th>FL</th>\n",
       "      <td>1</td>\n",
       "      <td>963</td>\n",
       "    </tr>\n",
       "    <tr>\n",
       "      <th>NJ</th>\n",
       "      <td>8</td>\n",
       "      <td>1848</td>\n",
       "    </tr>\n",
       "    <tr>\n",
       "      <th rowspan=\"3\" valign=\"top\">2012-11-19</th>\n",
       "      <th>FL</th>\n",
       "      <td>2</td>\n",
       "      <td>390</td>\n",
       "    </tr>\n",
       "    <tr>\n",
       "      <th>GA</th>\n",
       "      <td>1</td>\n",
       "      <td>136</td>\n",
       "    </tr>\n",
       "    <tr>\n",
       "      <th>NJ</th>\n",
       "      <td>5</td>\n",
       "      <td>1535</td>\n",
       "    </tr>\n",
       "    <tr>\n",
       "      <th rowspan=\"3\" valign=\"top\">2012-11-26</th>\n",
       "      <th>FL</th>\n",
       "      <td>3</td>\n",
       "      <td>513</td>\n",
       "    </tr>\n",
       "    <tr>\n",
       "      <th>GA</th>\n",
       "      <td>3</td>\n",
       "      <td>1340</td>\n",
       "    </tr>\n",
       "    <tr>\n",
       "      <th>NJ</th>\n",
       "      <td>1</td>\n",
       "      <td>748</td>\n",
       "    </tr>\n",
       "    <tr>\n",
       "      <th rowspan=\"3\" valign=\"top\">2012-12-03</th>\n",
       "      <th>FL</th>\n",
       "      <td>3</td>\n",
       "      <td>222</td>\n",
       "    </tr>\n",
       "    <tr>\n",
       "      <th>GA</th>\n",
       "      <td>3</td>\n",
       "      <td>355</td>\n",
       "    </tr>\n",
       "    <tr>\n",
       "      <th>NY</th>\n",
       "      <td>4</td>\n",
       "      <td>955</td>\n",
       "    </tr>\n",
       "    <tr>\n",
       "      <th rowspan=\"4\" valign=\"top\">2012-12-10</th>\n",
       "      <th>GA</th>\n",
       "      <td>1</td>\n",
       "      <td>769</td>\n",
       "    </tr>\n",
       "    <tr>\n",
       "      <th>NJ</th>\n",
       "      <td>1</td>\n",
       "      <td>500</td>\n",
       "    </tr>\n",
       "    <tr>\n",
       "      <th>NY</th>\n",
       "      <td>2</td>\n",
       "      <td>809</td>\n",
       "    </tr>\n",
       "    <tr>\n",
       "      <th>TX</th>\n",
       "      <td>2</td>\n",
       "      <td>887</td>\n",
       "    </tr>\n",
       "    <tr>\n",
       "      <th rowspan=\"3\" valign=\"top\">2012-12-17</th>\n",
       "      <th>FL</th>\n",
       "      <td>2</td>\n",
       "      <td>82</td>\n",
       "    </tr>\n",
       "    <tr>\n",
       "      <th>NJ</th>\n",
       "      <td>5</td>\n",
       "      <td>1469</td>\n",
       "    </tr>\n",
       "    <tr>\n",
       "      <th>TX</th>\n",
       "      <td>2</td>\n",
       "      <td>988</td>\n",
       "    </tr>\n",
       "    <tr>\n",
       "      <th rowspan=\"3\" valign=\"top\">2012-12-24</th>\n",
       "      <th>FL</th>\n",
       "      <td>2</td>\n",
       "      <td>969</td>\n",
       "    </tr>\n",
       "    <tr>\n",
       "      <th>GA</th>\n",
       "      <td>6</td>\n",
       "      <td>1614</td>\n",
       "    </tr>\n",
       "    <tr>\n",
       "      <th>NY</th>\n",
       "      <td>3</td>\n",
       "      <td>850</td>\n",
       "    </tr>\n",
       "    <tr>\n",
       "      <th rowspan=\"2\" valign=\"top\">2012-12-31</th>\n",
       "      <th>FL</th>\n",
       "      <td>8</td>\n",
       "      <td>2564</td>\n",
       "    </tr>\n",
       "    <tr>\n",
       "      <th>fl</th>\n",
       "      <td>2</td>\n",
       "      <td>334</td>\n",
       "    </tr>\n",
       "  </tbody>\n",
       "</table>\n",
       "<p>665 rows × 2 columns</p>\n",
       "</div>"
      ],
      "text/plain": [
       "                  Status  CustomerCount\n",
       "StatusDate State                       \n",
       "2009-01-05 FL          3            638\n",
       "           GA          1            877\n",
       "           NY          2            882\n",
       "           fl          3            122\n",
       "2009-01-12 FL          4           1583\n",
       "           GA          3            813\n",
       "           fl          3            955\n",
       "2009-01-19 NY          1            522\n",
       "           TX          3            771\n",
       "           fl          6            895\n",
       "2009-01-26 FL          3            111\n",
       "           GA          2            755\n",
       "           NJ          2            999\n",
       "           fl          3            436\n",
       "2009-02-02 GA          1            300\n",
       "           TX          2            398\n",
       "           fl          4           1506\n",
       "2009-02-09 FL          2            706\n",
       "           NJ          2            500\n",
       "           TX          2             69\n",
       "           fl          3            263\n",
       "2009-02-16 GA          6           1636\n",
       "           TX          3            347\n",
       "2009-02-23 GA          3            673\n",
       "           NJ          1            710\n",
       "           fl          5            577\n",
       "2009-03-02 FL          3            833\n",
       "           NJ          5           1113\n",
       "           NY          3            941\n",
       "2009-03-09 GA          3            759\n",
       "...                  ...            ...\n",
       "2012-10-29 GA          2            380\n",
       "           NJ          3            247\n",
       "           TX          3            316\n",
       "2012-11-05 FL          3            569\n",
       "           GA          3            564\n",
       "           NY          1            162\n",
       "           fl          2            105\n",
       "2012-11-12 FL          1            963\n",
       "           NJ          8           1848\n",
       "2012-11-19 FL          2            390\n",
       "           GA          1            136\n",
       "           NJ          5           1535\n",
       "2012-11-26 FL          3            513\n",
       "           GA          3           1340\n",
       "           NJ          1            748\n",
       "2012-12-03 FL          3            222\n",
       "           GA          3            355\n",
       "           NY          4            955\n",
       "2012-12-10 GA          1            769\n",
       "           NJ          1            500\n",
       "           NY          2            809\n",
       "           TX          2            887\n",
       "2012-12-17 FL          2             82\n",
       "           NJ          5           1469\n",
       "           TX          2            988\n",
       "2012-12-24 FL          2            969\n",
       "           GA          6           1614\n",
       "           NY          3            850\n",
       "2012-12-31 FL          8           2564\n",
       "           fl          2            334\n",
       "\n",
       "[665 rows x 2 columns]"
      ]
     },
     "execution_count": 101,
     "metadata": {},
     "output_type": "execute_result"
    }
   ],
   "source": [
    "g_state = df.groupby(['StatusDate','State'], axis=0, sort=True).sum()\n",
    "g_state"
   ]
  },
  {
   "cell_type": "markdown",
   "metadata": {
    "deletable": true,
    "editable": true
   },
   "source": [
    "** pd.concat ** 將兩個 df 連接"
   ]
  },
  {
   "cell_type": "code",
   "execution_count": 107,
   "metadata": {
    "collapsed": true,
    "deletable": true,
    "editable": true
   },
   "outputs": [],
   "source": [
    "df1 = pd.DataFrame({'A': ['A0', 'A1', 'A2', 'A3'],\n",
    "                    'B': ['B0', 'B1', 'B2', 'B3'],\n",
    "                    'C': ['C0', 'C1', 'C2', 'C3'],\n",
    "                    'D': ['D0', 'D1', 'D2', 'D3']},\n",
    "                    index=[0, 1, 2, 3])\n",
    "\n",
    "\n",
    "df2 = pd.DataFrame({'A': ['A4', 'A5', 'A6', 'A7'],\n",
    "                    'B': ['B4', 'B5', 'B6', 'B7'],\n",
    "                    'C': ['C4', 'C5', 'C6', 'C7'],\n",
    "                    'D': ['D4', 'D5', 'D6', 'D7']},\n",
    "                    index=[4, 5, 6, 7])"
   ]
  },
  {
   "cell_type": "code",
   "execution_count": 108,
   "metadata": {
    "collapsed": false,
    "deletable": true,
    "editable": true
   },
   "outputs": [
    {
     "data": {
      "text/html": [
       "<div>\n",
       "<style>\n",
       "    .dataframe thead tr:only-child th {\n",
       "        text-align: right;\n",
       "    }\n",
       "\n",
       "    .dataframe thead th {\n",
       "        text-align: left;\n",
       "    }\n",
       "\n",
       "    .dataframe tbody tr th {\n",
       "        vertical-align: top;\n",
       "    }\n",
       "</style>\n",
       "<table border=\"1\" class=\"dataframe\">\n",
       "  <thead>\n",
       "    <tr style=\"text-align: right;\">\n",
       "      <th></th>\n",
       "      <th>A</th>\n",
       "      <th>B</th>\n",
       "      <th>C</th>\n",
       "      <th>D</th>\n",
       "    </tr>\n",
       "  </thead>\n",
       "  <tbody>\n",
       "    <tr>\n",
       "      <th>0</th>\n",
       "      <td>A0</td>\n",
       "      <td>B0</td>\n",
       "      <td>C0</td>\n",
       "      <td>D0</td>\n",
       "    </tr>\n",
       "    <tr>\n",
       "      <th>1</th>\n",
       "      <td>A1</td>\n",
       "      <td>B1</td>\n",
       "      <td>C1</td>\n",
       "      <td>D1</td>\n",
       "    </tr>\n",
       "    <tr>\n",
       "      <th>2</th>\n",
       "      <td>A2</td>\n",
       "      <td>B2</td>\n",
       "      <td>C2</td>\n",
       "      <td>D2</td>\n",
       "    </tr>\n",
       "    <tr>\n",
       "      <th>3</th>\n",
       "      <td>A3</td>\n",
       "      <td>B3</td>\n",
       "      <td>C3</td>\n",
       "      <td>D3</td>\n",
       "    </tr>\n",
       "  </tbody>\n",
       "</table>\n",
       "</div>"
      ],
      "text/plain": [
       "    A   B   C   D\n",
       "0  A0  B0  C0  D0\n",
       "1  A1  B1  C1  D1\n",
       "2  A2  B2  C2  D2\n",
       "3  A3  B3  C3  D3"
      ]
     },
     "execution_count": 108,
     "metadata": {},
     "output_type": "execute_result"
    }
   ],
   "source": [
    "df1"
   ]
  },
  {
   "cell_type": "code",
   "execution_count": 109,
   "metadata": {
    "collapsed": false,
    "deletable": true,
    "editable": true
   },
   "outputs": [
    {
     "data": {
      "text/html": [
       "<div>\n",
       "<style>\n",
       "    .dataframe thead tr:only-child th {\n",
       "        text-align: right;\n",
       "    }\n",
       "\n",
       "    .dataframe thead th {\n",
       "        text-align: left;\n",
       "    }\n",
       "\n",
       "    .dataframe tbody tr th {\n",
       "        vertical-align: top;\n",
       "    }\n",
       "</style>\n",
       "<table border=\"1\" class=\"dataframe\">\n",
       "  <thead>\n",
       "    <tr style=\"text-align: right;\">\n",
       "      <th></th>\n",
       "      <th>A</th>\n",
       "      <th>B</th>\n",
       "      <th>C</th>\n",
       "      <th>D</th>\n",
       "    </tr>\n",
       "  </thead>\n",
       "  <tbody>\n",
       "    <tr>\n",
       "      <th>4</th>\n",
       "      <td>A4</td>\n",
       "      <td>B4</td>\n",
       "      <td>C4</td>\n",
       "      <td>D4</td>\n",
       "    </tr>\n",
       "    <tr>\n",
       "      <th>5</th>\n",
       "      <td>A5</td>\n",
       "      <td>B5</td>\n",
       "      <td>C5</td>\n",
       "      <td>D5</td>\n",
       "    </tr>\n",
       "    <tr>\n",
       "      <th>6</th>\n",
       "      <td>A6</td>\n",
       "      <td>B6</td>\n",
       "      <td>C6</td>\n",
       "      <td>D6</td>\n",
       "    </tr>\n",
       "    <tr>\n",
       "      <th>7</th>\n",
       "      <td>A7</td>\n",
       "      <td>B7</td>\n",
       "      <td>C7</td>\n",
       "      <td>D7</td>\n",
       "    </tr>\n",
       "  </tbody>\n",
       "</table>\n",
       "</div>"
      ],
      "text/plain": [
       "    A   B   C   D\n",
       "4  A4  B4  C4  D4\n",
       "5  A5  B5  C5  D5\n",
       "6  A6  B6  C6  D6\n",
       "7  A7  B7  C7  D7"
      ]
     },
     "execution_count": 109,
     "metadata": {},
     "output_type": "execute_result"
    }
   ],
   "source": [
    "df2"
   ]
  },
  {
   "cell_type": "code",
   "execution_count": 110,
   "metadata": {
    "collapsed": false,
    "deletable": true,
    "editable": true
   },
   "outputs": [
    {
     "data": {
      "text/html": [
       "<div>\n",
       "<style>\n",
       "    .dataframe thead tr:only-child th {\n",
       "        text-align: right;\n",
       "    }\n",
       "\n",
       "    .dataframe thead th {\n",
       "        text-align: left;\n",
       "    }\n",
       "\n",
       "    .dataframe tbody tr th {\n",
       "        vertical-align: top;\n",
       "    }\n",
       "</style>\n",
       "<table border=\"1\" class=\"dataframe\">\n",
       "  <thead>\n",
       "    <tr style=\"text-align: right;\">\n",
       "      <th></th>\n",
       "      <th>A</th>\n",
       "      <th>B</th>\n",
       "      <th>C</th>\n",
       "      <th>D</th>\n",
       "    </tr>\n",
       "  </thead>\n",
       "  <tbody>\n",
       "    <tr>\n",
       "      <th>0</th>\n",
       "      <td>A0</td>\n",
       "      <td>B0</td>\n",
       "      <td>C0</td>\n",
       "      <td>D0</td>\n",
       "    </tr>\n",
       "    <tr>\n",
       "      <th>1</th>\n",
       "      <td>A1</td>\n",
       "      <td>B1</td>\n",
       "      <td>C1</td>\n",
       "      <td>D1</td>\n",
       "    </tr>\n",
       "    <tr>\n",
       "      <th>2</th>\n",
       "      <td>A2</td>\n",
       "      <td>B2</td>\n",
       "      <td>C2</td>\n",
       "      <td>D2</td>\n",
       "    </tr>\n",
       "    <tr>\n",
       "      <th>3</th>\n",
       "      <td>A3</td>\n",
       "      <td>B3</td>\n",
       "      <td>C3</td>\n",
       "      <td>D3</td>\n",
       "    </tr>\n",
       "    <tr>\n",
       "      <th>4</th>\n",
       "      <td>A4</td>\n",
       "      <td>B4</td>\n",
       "      <td>C4</td>\n",
       "      <td>D4</td>\n",
       "    </tr>\n",
       "    <tr>\n",
       "      <th>5</th>\n",
       "      <td>A5</td>\n",
       "      <td>B5</td>\n",
       "      <td>C5</td>\n",
       "      <td>D5</td>\n",
       "    </tr>\n",
       "    <tr>\n",
       "      <th>6</th>\n",
       "      <td>A6</td>\n",
       "      <td>B6</td>\n",
       "      <td>C6</td>\n",
       "      <td>D6</td>\n",
       "    </tr>\n",
       "    <tr>\n",
       "      <th>7</th>\n",
       "      <td>A7</td>\n",
       "      <td>B7</td>\n",
       "      <td>C7</td>\n",
       "      <td>D7</td>\n",
       "    </tr>\n",
       "  </tbody>\n",
       "</table>\n",
       "</div>"
      ],
      "text/plain": [
       "    A   B   C   D\n",
       "0  A0  B0  C0  D0\n",
       "1  A1  B1  C1  D1\n",
       "2  A2  B2  C2  D2\n",
       "3  A3  B3  C3  D3\n",
       "4  A4  B4  C4  D4\n",
       "5  A5  B5  C5  D5\n",
       "6  A6  B6  C6  D6\n",
       "7  A7  B7  C7  D7"
      ]
     },
     "execution_count": 110,
     "metadata": {},
     "output_type": "execute_result"
    }
   ],
   "source": [
    "## 垂直接上 dataframe\n",
    "result = pd.concat([df1, df2])\n",
    "result"
   ]
  },
  {
   "cell_type": "code",
   "execution_count": 125,
   "metadata": {
    "collapsed": true,
    "deletable": true,
    "editable": true
   },
   "outputs": [],
   "source": [
    "left = pd.DataFrame({'key': ['K0', 'K1', 'K2', 'K3'],\n",
    "                      'A': ['A0', 'A1', 'A2', 'A3'],\n",
    "                      'B': ['B0', 'B1', 'B2', 'B3']})\n",
    "\n",
    "right = pd.DataFrame({'key': ['K0', 'K1', 'K2', 'K3'],\n",
    "                       'C': ['C0', 'C1', 'C2', 'C3'],\n",
    "                       'D': ['D0', 'D1', 'D2', 'D3']})"
   ]
  },
  {
   "cell_type": "code",
   "execution_count": 122,
   "metadata": {
    "collapsed": true,
    "deletable": true,
    "editable": true
   },
   "outputs": [],
   "source": [
    "result = pd.merge(left, right, on='key')\n"
   ]
  },
  {
   "cell_type": "markdown",
   "metadata": {
    "deletable": true,
    "editable": true
   },
   "source": [
    "![image](https://pandas.pydata.org/pandas-docs/stable/_images/merging_merge_on_key.png)"
   ]
  },
  {
   "cell_type": "code",
   "execution_count": 127,
   "metadata": {
    "collapsed": true,
    "deletable": true,
    "editable": true
   },
   "outputs": [],
   "source": [
    "left = pd.DataFrame({'key1': ['K0', 'K0', 'K1', 'K2'],\n",
    "                      'key2': ['K0', 'K1', 'K0', 'K1'],\n",
    "                      'A': ['A0', 'A1', 'A2', 'A3'],\n",
    "                      'B': ['B0', 'B1', 'B2', 'B3']})\n",
    "\n",
    "right = pd.DataFrame({'key1': ['K0', 'K1', 'K1', 'K2'],\n",
    "                       'key2': ['K0', 'K0', 'K0', 'K0'],\n",
    "                       'C': ['C0', 'C1', 'C2', 'C3'],\n",
    "                       'D': ['D0', 'D1', 'D2', 'D3']})"
   ]
  },
  {
   "cell_type": "code",
   "execution_count": 129,
   "metadata": {
    "collapsed": true,
    "deletable": true,
    "editable": true
   },
   "outputs": [],
   "source": [
    "result = pd.merge(left, right, on=['key1', 'key2'], how='left')"
   ]
  },
  {
   "cell_type": "markdown",
   "metadata": {
    "deletable": true,
    "editable": true
   },
   "source": [
    "![](https://pandas.pydata.org/pandas-docs/stable/_images/merging_merge_on_key_left.png)"
   ]
  },
  {
   "cell_type": "code",
   "execution_count": 131,
   "metadata": {
    "collapsed": true,
    "deletable": true,
    "editable": true
   },
   "outputs": [],
   "source": [
    "result = pd.merge(left, right, how='right', on=['key1', 'key2'])"
   ]
  },
  {
   "cell_type": "markdown",
   "metadata": {
    "deletable": true,
    "editable": true
   },
   "source": [
    "![](https://pandas.pydata.org/pandas-docs/stable/_images/merging_merge_on_key_right.png)"
   ]
  },
  {
   "cell_type": "code",
   "execution_count": 133,
   "metadata": {
    "collapsed": true,
    "deletable": true,
    "editable": true
   },
   "outputs": [],
   "source": [
    "result = pd.merge(left, right, how='outer', on=['key1', 'key2'])"
   ]
  },
  {
   "cell_type": "markdown",
   "metadata": {
    "deletable": true,
    "editable": true
   },
   "source": [
    "![](https://pandas.pydata.org/pandas-docs/stable/_images/merging_merge_on_key_outer.png)"
   ]
  },
  {
   "cell_type": "code",
   "execution_count": null,
   "metadata": {
    "collapsed": true,
    "deletable": true,
    "editable": true
   },
   "outputs": [],
   "source": [
    "result = pd.merge(left, right, how='inner', on=['key1', 'key2'])"
   ]
  },
  {
   "cell_type": "markdown",
   "metadata": {
    "deletable": true,
    "editable": true
   },
   "source": [
    "![](https://pandas.pydata.org/pandas-docs/stable/_images/merging_merge_on_key_inner.png)"
   ]
  },
  {
   "cell_type": "markdown",
   "metadata": {
    "deletable": true,
    "editable": true
   },
   "source": [
    "#### pandas 練習\n",
    "\n",
    "接下來的練習題，皆可從以下的資源找到答案。\n",
    "* [10 minutes to pandas](http://pandas.pydata.org/pandas-docs/stable/10min.html)\n",
    "* [pandas basics](http://pandas.pydata.org/pandas-docs/stable/basics.html)\n",
    "* [tutorials](http://pandas.pydata.org/pandas-docs/stable/tutorials.html)\n",
    "* [cookbook and idioms](http://pandas.pydata.org/pandas-docs/version/0.17.0/cookbook.html#cookbook)\n",
    "* [Guilherme Samora's pandas exercises](https://github.com/guipsamora/pandas_exercises)"
   ]
  },
  {
   "cell_type": "code",
   "execution_count": 6,
   "metadata": {
    "collapsed": true,
    "deletable": true,
    "editable": true
   },
   "outputs": [],
   "source": [
    "import pandas as pd\n",
    "\n",
    "data = {'animal': ['cat', 'cat', 'snake', 'dog', 'dog', 'cat', 'snake', 'cat', 'dog', 'dog'],\n",
    "        'age': [2.5, 3, 0.5, np.nan, 5, 2, 4.5, np.nan, 7, 3],\n",
    "        'visits': [1, 3, 2, 3, 2, 3, 1, 1, 2, 1],\n",
    "        'priority': ['yes', 'yes', 'no', 'yes', 'no', 'no', 'no', 'yes', 'no', 'no']}"
   ]
  },
  {
   "cell_type": "markdown",
   "metadata": {
    "deletable": true,
    "editable": true
   },
   "source": [
    "Q1. Create a DataFrame df from this dictionary data "
   ]
  },
  {
   "cell_type": "code",
   "execution_count": 7,
   "metadata": {
    "collapsed": true,
    "deletable": true,
    "editable": true
   },
   "outputs": [],
   "source": []
  },
  {
   "cell_type": "markdown",
   "metadata": {
    "deletable": true,
    "editable": true
   },
   "source": [
    "Q2. Display a summary of the basic information about this DataFrame and its data by **describe**"
   ]
  },
  {
   "cell_type": "code",
   "execution_count": null,
   "metadata": {
    "collapsed": false,
    "deletable": true,
    "editable": true
   },
   "outputs": [],
   "source": []
  },
  {
   "cell_type": "markdown",
   "metadata": {
    "deletable": true,
    "editable": true
   },
   "source": [
    "Q3. Select just the **'animal'** and **'age'** columns from the DataFrame df"
   ]
  },
  {
   "cell_type": "code",
   "execution_count": null,
   "metadata": {
    "collapsed": false,
    "deletable": true,
    "editable": true
   },
   "outputs": [],
   "source": []
  },
  {
   "cell_type": "markdown",
   "metadata": {
    "deletable": true,
    "editable": true
   },
   "source": [
    "Q4. Select the data in rows [3, 4, 8] and in columns ['animal', 'age'] by **df.loc**"
   ]
  },
  {
   "cell_type": "code",
   "execution_count": null,
   "metadata": {
    "collapsed": false,
    "deletable": true,
    "editable": true
   },
   "outputs": [],
   "source": []
  },
  {
   "cell_type": "markdown",
   "metadata": {
    "deletable": true,
    "editable": true
   },
   "source": [
    "Q5. Select the rows where the age is not missing, i.e. not NaN"
   ]
  },
  {
   "cell_type": "code",
   "execution_count": null,
   "metadata": {
    "collapsed": false,
    "deletable": true,
    "editable": true
   },
   "outputs": [],
   "source": []
  },
  {
   "cell_type": "markdown",
   "metadata": {
    "deletable": true,
    "editable": true
   },
   "source": [
    "### 請參考 [100-pandas-puzzles](https://github.com/ajcr/100-pandas-puzzles/blob/master/100-pandas-puzzles.ipynb) 做更多 pandas  的資料操作練習"
   ]
  },
  {
   "cell_type": "markdown",
   "metadata": {
    "deletable": true,
    "editable": true
   },
   "source": [
    "## [Matplotlib](https://matplotlib.org/)\n",
    "Matplotlib is a Python 2D plotting library which produces publication quality figures in a variety of hardcopy formats and interactive environments across platforms.\n"
   ]
  },
  {
   "cell_type": "code",
   "execution_count": 7,
   "metadata": {
    "collapsed": true,
    "deletable": true,
    "editable": true
   },
   "outputs": [],
   "source": [
    "%matplotlib inline\n",
    "import matplotlib.pyplot as plt\n",
    "import pandas as pd"
   ]
  },
  {
   "cell_type": "code",
   "execution_count": 8,
   "metadata": {
    "collapsed": false,
    "deletable": true,
    "editable": true
   },
   "outputs": [
    {
     "data": {
      "text/html": [
       "<div>\n",
       "<style>\n",
       "    .dataframe thead tr:only-child th {\n",
       "        text-align: right;\n",
       "    }\n",
       "\n",
       "    .dataframe thead th {\n",
       "        text-align: left;\n",
       "    }\n",
       "\n",
       "    .dataframe tbody tr th {\n",
       "        vertical-align: top;\n",
       "    }\n",
       "</style>\n",
       "<table border=\"1\" class=\"dataframe\">\n",
       "  <thead>\n",
       "    <tr style=\"text-align: right;\">\n",
       "      <th></th>\n",
       "      <th>account number</th>\n",
       "      <th>name</th>\n",
       "      <th>sku</th>\n",
       "      <th>quantity</th>\n",
       "      <th>unit price</th>\n",
       "      <th>ext price</th>\n",
       "      <th>date</th>\n",
       "    </tr>\n",
       "  </thead>\n",
       "  <tbody>\n",
       "    <tr>\n",
       "      <th>0</th>\n",
       "      <td>740150</td>\n",
       "      <td>Barton LLC</td>\n",
       "      <td>B1-20000</td>\n",
       "      <td>39</td>\n",
       "      <td>86.69</td>\n",
       "      <td>3380.91</td>\n",
       "      <td>2014-01-01 07:21:51</td>\n",
       "    </tr>\n",
       "    <tr>\n",
       "      <th>1</th>\n",
       "      <td>714466</td>\n",
       "      <td>Trantow-Barrows</td>\n",
       "      <td>S2-77896</td>\n",
       "      <td>-1</td>\n",
       "      <td>63.16</td>\n",
       "      <td>-63.16</td>\n",
       "      <td>2014-01-01 10:00:47</td>\n",
       "    </tr>\n",
       "    <tr>\n",
       "      <th>2</th>\n",
       "      <td>218895</td>\n",
       "      <td>Kulas Inc</td>\n",
       "      <td>B1-69924</td>\n",
       "      <td>23</td>\n",
       "      <td>90.70</td>\n",
       "      <td>2086.10</td>\n",
       "      <td>2014-01-01 13:24:58</td>\n",
       "    </tr>\n",
       "    <tr>\n",
       "      <th>3</th>\n",
       "      <td>307599</td>\n",
       "      <td>Kassulke, Ondricka and Metz</td>\n",
       "      <td>S1-65481</td>\n",
       "      <td>41</td>\n",
       "      <td>21.05</td>\n",
       "      <td>863.05</td>\n",
       "      <td>2014-01-01 15:05:22</td>\n",
       "    </tr>\n",
       "    <tr>\n",
       "      <th>4</th>\n",
       "      <td>412290</td>\n",
       "      <td>Jerde-Hilpert</td>\n",
       "      <td>S2-34077</td>\n",
       "      <td>6</td>\n",
       "      <td>83.21</td>\n",
       "      <td>499.26</td>\n",
       "      <td>2014-01-01 23:26:55</td>\n",
       "    </tr>\n",
       "  </tbody>\n",
       "</table>\n",
       "</div>"
      ],
      "text/plain": [
       "   account number                         name       sku  quantity  \\\n",
       "0          740150                   Barton LLC  B1-20000        39   \n",
       "1          714466              Trantow-Barrows  S2-77896        -1   \n",
       "2          218895                    Kulas Inc  B1-69924        23   \n",
       "3          307599  Kassulke, Ondricka and Metz  S1-65481        41   \n",
       "4          412290                Jerde-Hilpert  S2-34077         6   \n",
       "\n",
       "   unit price  ext price                 date  \n",
       "0       86.69    3380.91  2014-01-01 07:21:51  \n",
       "1       63.16     -63.16  2014-01-01 10:00:47  \n",
       "2       90.70    2086.10  2014-01-01 13:24:58  \n",
       "3       21.05     863.05  2014-01-01 15:05:22  \n",
       "4       83.21     499.26  2014-01-01 23:26:55  "
      ]
     },
     "execution_count": 8,
     "metadata": {},
     "output_type": "execute_result"
    }
   ],
   "source": [
    "df = pd.read_excel(\"https://github.com/chris1610/pbpython/blob/master/data/sample-salesv3.xlsx?raw=true\")\n",
    "df.head()"
   ]
  },
  {
   "cell_type": "code",
   "execution_count": 9,
   "metadata": {
    "collapsed": false,
    "deletable": true,
    "editable": true
   },
   "outputs": [
    {
     "data": {
      "text/plain": [
       "(1500, 7)"
      ]
     },
     "execution_count": 9,
     "metadata": {},
     "output_type": "execute_result"
    }
   ],
   "source": [
    "df.shape"
   ]
  },
  {
   "cell_type": "code",
   "execution_count": 10,
   "metadata": {
    "collapsed": true,
    "deletable": true,
    "editable": true
   },
   "outputs": [],
   "source": [
    "# 將前十名依據採購次數和交易額做排序\n",
    "top_10 = df.groupby('name')['ext price', 'quantity'].agg({'ext price': 'sum', 'quantity': 'count'}).sort_values(by='ext price', ascending=False)[:10].reset_index()\n",
    "\n",
    "top_10.rename(columns={'name': 'Name', 'ext price': 'Sales', 'quantity': 'Purchases'}, inplace=True)"
   ]
  },
  {
   "cell_type": "code",
   "execution_count": 11,
   "metadata": {
    "collapsed": false,
    "deletable": true,
    "editable": true
   },
   "outputs": [
    {
     "data": {
      "text/html": [
       "<div>\n",
       "<style>\n",
       "    .dataframe thead tr:only-child th {\n",
       "        text-align: right;\n",
       "    }\n",
       "\n",
       "    .dataframe thead th {\n",
       "        text-align: left;\n",
       "    }\n",
       "\n",
       "    .dataframe tbody tr th {\n",
       "        vertical-align: top;\n",
       "    }\n",
       "</style>\n",
       "<table border=\"1\" class=\"dataframe\">\n",
       "  <thead>\n",
       "    <tr style=\"text-align: right;\">\n",
       "      <th></th>\n",
       "      <th>Name</th>\n",
       "      <th>Sales</th>\n",
       "      <th>Purchases</th>\n",
       "    </tr>\n",
       "  </thead>\n",
       "  <tbody>\n",
       "    <tr>\n",
       "      <th>0</th>\n",
       "      <td>Kulas Inc</td>\n",
       "      <td>137351.96</td>\n",
       "      <td>94</td>\n",
       "    </tr>\n",
       "    <tr>\n",
       "      <th>1</th>\n",
       "      <td>White-Trantow</td>\n",
       "      <td>135841.99</td>\n",
       "      <td>86</td>\n",
       "    </tr>\n",
       "    <tr>\n",
       "      <th>2</th>\n",
       "      <td>Trantow-Barrows</td>\n",
       "      <td>123381.38</td>\n",
       "      <td>94</td>\n",
       "    </tr>\n",
       "    <tr>\n",
       "      <th>3</th>\n",
       "      <td>Jerde-Hilpert</td>\n",
       "      <td>112591.43</td>\n",
       "      <td>89</td>\n",
       "    </tr>\n",
       "    <tr>\n",
       "      <th>4</th>\n",
       "      <td>Fritsch, Russel and Anderson</td>\n",
       "      <td>112214.71</td>\n",
       "      <td>81</td>\n",
       "    </tr>\n",
       "  </tbody>\n",
       "</table>\n",
       "</div>"
      ],
      "text/plain": [
       "                           Name      Sales  Purchases\n",
       "0                     Kulas Inc  137351.96         94\n",
       "1                 White-Trantow  135841.99         86\n",
       "2               Trantow-Barrows  123381.38         94\n",
       "3                 Jerde-Hilpert  112591.43         89\n",
       "4  Fritsch, Russel and Anderson  112214.71         81"
      ]
     },
     "execution_count": 11,
     "metadata": {},
     "output_type": "execute_result"
    }
   ],
   "source": [
    "top_10.head()"
   ]
  },
  {
   "cell_type": "code",
   "execution_count": 12,
   "metadata": {
    "collapsed": false,
    "deletable": true,
    "editable": true
   },
   "outputs": [
    {
     "data": {
      "image/png": "[encoded data removed]",
      "text/plain": [
       "<matplotlib.figure.Figure at 0x9f17b00>"
      ]
     },
     "metadata": {},
     "output_type": "display_data"
    }
   ],
   "source": [
    "# 使用 ggplot 風格\n",
    "plt.style.use('ggplot')\n",
    "\n",
    "# 繪製長條圖\n",
    "top_10.plot(kind='barh', y=\"Sales\", x=\"Name\")\n",
    "plt.show()"
   ]
  },
  {
   "cell_type": "code",
   "execution_count": 13,
   "metadata": {
    "collapsed": true,
    "deletable": true,
    "editable": true
   },
   "outputs": [],
   "source": [
    "## currect function 會將超過一千的數字轉換成文字 K, M\n",
    "def currency(x, pos):\n",
    "    'The two args are the value and tick position'\n",
    "    if x >= 1000000:\n",
    "        return '${:1.1f}M'.format(x*1e-6)\n",
    "    return '${:1.0f}K'.format(x*1e-3)"
   ]
  },
  {
   "cell_type": "code",
   "execution_count": 15,
   "metadata": {
    "collapsed": false,
    "deletable": true,
    "editable": true
   },
   "outputs": [
    {
     "data": {
      "image/png": "[encoded data removed]",
      "text/plain": [
       "<matplotlib.figure.Figure at 0xa33d240>"
      ]
     },
     "metadata": {},
     "output_type": "display_data"
    }
   ],
   "source": [
    "from matplotlib.ticker import FuncFormatter\n",
    "#建立 fig, ax\n",
    "fig, ax = plt.subplots()\n",
    "\n",
    "# 將 Barplot (x=名稱, y=銷售量) 繪製在 ax上\n",
    "top_10.plot(kind='barh', y=\"Sales\", x=\"Name\", ax=ax)\n",
    "\n",
    "# 設置 x 範圍\n",
    "ax.set_xlim([-10000, 140000])\n",
    "\n",
    "# 給訂 title, label\n",
    "ax.set(title='2014 Revenue', xlabel='Total Revenue', ylabel='Customer')\n",
    "\n",
    "# 建立要使用的格式函數\n",
    "formatter = FuncFormatter(currency)\n",
    "ax.xaxis.set_major_formatter(formatter)\n",
    "\n",
    "# 將 legend 遮蔽掉\n",
    "ax.legend().set_visible(False)"
   ]
  },
  {
   "cell_type": "markdown",
   "metadata": {
    "deletable": true,
    "editable": true
   },
   "source": [
    "### 將多個結果繪製在同一張圖上\n"
   ]
  },
  {
   "cell_type": "code",
   "execution_count": 187,
   "metadata": {
    "collapsed": false,
    "deletable": true,
    "editable": true
   },
   "outputs": [
    {
     "data": {
      "image/png": "[encoded data removed]",
      "text/plain": [
       "<matplotlib.figure.Figure at 0xcf9a278>"
      ]
     },
     "metadata": {},
     "output_type": "display_data"
    }
   ],
   "source": [
    "fig, (ax0, ax1) = plt.subplots(nrows=1, ncols=2, sharey=True, figsize=(7, 4))\n",
    "top_10.plot(kind='barh', y=\"Sales\", x=\"Name\", ax=ax0)\n",
    "ax0.set_xlim([-10000, 140000])\n",
    "ax0.set(title='Revenue', xlabel='Total Revenue', ylabel='Customers')\n",
    "\n",
    "# Plot the average as a vertical line\n",
    "avg = top_10['Sales'].mean()\n",
    "ax0.axvline(x=avg, color='b', label='Average', linestyle='--', linewidth=1)\n",
    "\n",
    "# Repeat for the unit plot\n",
    "top_10.plot(kind='barh', y=\"Purchases\", x=\"Name\", ax=ax1)\n",
    "avg = top_10['Purchases'].mean()\n",
    "ax1.set(title='Units', xlabel='Total Units', ylabel='')\n",
    "ax1.axvline(x=avg, color='b', label='Average', linestyle='--', linewidth=1)\n",
    "\n",
    "# Title the figure\n",
    "fig.suptitle('2014 Sales Analysis', fontsize=14, fontweight='bold');\n",
    "\n",
    "# Hide the legends\n",
    "ax1.legend().set_visible(False)\n",
    "ax0.legend().set_visible(False)"
   ]
  },
  {
   "cell_type": "markdown",
   "metadata": {
    "deletable": true,
    "editable": true
   },
   "source": [
    "![image](https://image.jiqizhixin.com/uploads/wangeditor/cc2d48db-1ee5-492a-ad5e-5a551d683a54/86021image.png)"
   ]
  },
  {
   "cell_type": "markdown",
   "metadata": {
    "deletable": true,
    "editable": true
   },
   "source": [
    "### Scatter plot"
   ]
  },
  {
   "cell_type": "code",
   "execution_count": 3,
   "metadata": {
    "collapsed": false,
    "deletable": true,
    "editable": true
   },
   "outputs": [
    {
     "data": {
      "image/png": "[encoded data removed]",
      "text/plain": [
       "<matplotlib.figure.Figure at 0x8389780>"
      ]
     },
     "metadata": {},
     "output_type": "display_data"
    }
   ],
   "source": [
    "import numpy as np \n",
    "import matplotlib.pyplot as plt\n",
    "\n",
    "X = np.random.normal(0, 1, 100)\n",
    "Y = np.random.normal(0, 1, 100)\n",
    "plt.scatter(X, Y)\n",
    "plt.title(\"Scatter plot\")\n",
    "plt.show()"
   ]
  },
  {
   "cell_type": "code",
   "execution_count": 4,
   "metadata": {
    "collapsed": false,
    "deletable": true,
    "editable": true
   },
   "outputs": [
    {
     "data": {
      "image/png": "[encoded data removed]",
      "text/plain": [
       "<matplotlib.figure.Figure at 0x1d97d8e4710>"
      ]
     },
     "metadata": {},
     "output_type": "display_data"
    }
   ],
   "source": [
    "import numpy as np \n",
    "import matplotlib.pyplot as plt\n",
    "\n",
    "X = np.random.normal(0, 1, 1000)\n",
    "Y = np.random.normal(0, 1, 1000)\n",
    "plt.scatter(X, Y, alpha=0.5)\n",
    "plt.title(\"Scatter plot\")\n",
    "plt.show()"
   ]
  },
  {
   "cell_type": "markdown",
   "metadata": {
    "deletable": true,
    "editable": true
   },
   "source": [
    "### Matplotlib 練習題"
   ]
  },
  {
   "cell_type": "markdown",
   "metadata": {
    "deletable": true,
    "editable": true
   },
   "source": [
    "Q1. 用以下的 data 畫出與下方一樣的圖形"
   ]
  },
  {
   "cell_type": "code",
   "execution_count": 2,
   "metadata": {
    "collapsed": true,
    "deletable": true,
    "editable": true
   },
   "outputs": [],
   "source": [
    "# DATA FOR Q1\n",
    "import numpy as np\n",
    "x = np.arange(0, 100)\n",
    "y = x * 2\n",
    "z = x ** 2"
   ]
  },
  {
   "cell_type": "code",
   "execution_count": 5,
   "metadata": {
    "collapsed": false
   },
   "outputs": [
    {
     "data": {
      "image/png": "[encoded data removed]",
      "text/plain": [
       "<matplotlib.figure.Figure at 0x1d97e1c5080>"
      ]
     },
     "metadata": {},
     "output_type": "display_data"
    }
   ],
   "source": []
  },
  {
   "cell_type": "code",
   "execution_count": null,
   "metadata": {
    "collapsed": true
   },
   "outputs": [],
   "source": []
  },
  {
   "cell_type": "code",
   "execution_count": null,
   "metadata": {
    "collapsed": true
   },
   "outputs": [],
   "source": []
  },
  {
   "cell_type": "markdown",
   "metadata": {
    "deletable": true,
    "editable": true
   },
   "source": [
    "![](data:image/png;base64,iVBORw0KGgoAAAANSUhEUgAAAX0AAAEACAYAAABfxaZOAAAABHNCSVQICAgIfAhkiAAAAAlwSFlz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%0A)"
   ]
  },
  {
   "cell_type": "markdown",
   "metadata": {
    "deletable": true,
    "editable": true
   },
   "source": [
    "Q2. 用以下的 data 畫出與下方一樣的圖形"
   ]
  },
  {
   "cell_type": "code",
   "execution_count": 60,
   "metadata": {
    "collapsed": true,
    "deletable": true,
    "editable": true
   },
   "outputs": [],
   "source": [
    "# DATA FOR Q2\n",
    "data = {\"Date\": [\"03-10-16\", \"04-10-16\", \"05-10-16\", \"06-10-16\", \"07-10-16\"],\n",
    "        \"Open\": [774.25, 776.030029, 779.309998, 779, 779.659973],\n",
    "        \"High\": [776.065002, 778.710022, 782.070007, 780.47998, 779.659973],\n",
    "        \"Low\": [769.5, 772.890015, 775.650024, 775.539978, 770.75],\n",
    "        \"Close\": [772.559998, 776.429993, 776.469971, 776.859985, 775.080017]}"
   ]
  },
  {
   "cell_type": "markdown",
   "metadata": {
    "deletable": true,
    "editable": true
   },
   "source": [
    "![](https://www.w3resource.com/w3r_images/matplotlib-basic-exercise-4.png)"
   ]
  },
  {
   "cell_type": "markdown",
   "metadata": {
    "deletable": true,
    "editable": true
   },
   "source": [
    "Q3. 用以下的 data 畫出與下方一樣的圖形，hint: 搜尋 plot 中的 marker"
   ]
  },
  {
   "cell_type": "code",
   "execution_count": 67,
   "metadata": {
    "collapsed": true,
    "deletable": true,
    "editable": true
   },
   "outputs": [],
   "source": [
    "# DATA FOR Q3\n",
    "# x axis values\n",
    "x = [1, 4, 5, 6, 7]\n",
    "# y axis values\n",
    "y = [2, 6, 3, 6, 3]"
   ]
  },
  {
   "cell_type": "markdown",
   "metadata": {
    "deletable": true,
    "editable": true
   },
   "source": [
    "![](https://www.w3resource.com/w3r_images/matplotlib-basic-exercise-8.png)"
   ]
  },
  {
   "cell_type": "code",
   "execution_count": null,
   "metadata": {
    "collapsed": true
   },
   "outputs": [],
   "source": []
  },
  {
   "cell_type": "code",
   "execution_count": null,
   "metadata": {
    "collapsed": true
   },
   "outputs": [],
   "source": []
  },
  {
   "cell_type": "markdown",
   "metadata": {
    "deletable": true,
    "editable": true
   },
   "source": [
    "### 想挑戰更多 matplotlib 的圖形可參考 [python-matplotlib-plotting-examples-and-exercises](http://gree2.github.io/python/2015/04/10/python-matplotlib-plotting-examples-and-exercises)"
   ]
  }
 ],
 "metadata": {
  "kernelspec": {
   "display_name": "Python 3",
   "language": "python",
   "name": "python3"
  },
  "language_info": {
   "codemirror_mode": {
    "name": "ipython",
    "version": 3
   },
   "file_extension": ".py",
   "mimetype": "text/x-python",
   "name": "python",
   "nbconvert_exporter": "python",
   "pygments_lexer": "ipython3",
   "version": "3.6.0"
  }
 },
 "nbformat": 4,
 "nbformat_minor": 2
}
